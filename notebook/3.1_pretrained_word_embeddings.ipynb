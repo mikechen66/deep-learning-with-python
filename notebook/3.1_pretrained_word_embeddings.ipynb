{
 "cells": [
  {
   "cell_type": "code",
   "execution_count": 1,
   "metadata": {},
   "outputs": [],
   "source": [
    "import os\n",
    "from keras.utils import get_file\n",
    "import gensim\n",
    "import subprocess\n",
    "import numpy as np\n",
    "import matplotlib.pyplot as plt\n",
    "from IPython.core.pylabtools import figsize\n",
    "figsize(10, 10)"
   ]
  },
  {
   "cell_type": "code",
   "execution_count": 2,
   "metadata": {},
   "outputs": [],
   "source": [
    "import tensorflow as tf\n",
    "\n",
    "# Set up the GPU to avoid the runtime error: Could not create cuDNN handle...\n",
    "gpus = tf.config.experimental.list_physical_devices('GPU')\n",
    "for gpu in gpus:\n",
    "    tf.config.experimental.set_memory_growth(gpu, True)"
   ]
  },
  {
   "cell_type": "code",
   "execution_count": 3,
   "metadata": {},
   "outputs": [],
   "source": [
    "# We'll start the program by the GoogleNews in the local file. \n",
    "\n",
    "model_path = \"/home/mic/datasets/GoogleNews-vectors-negative300.bin\"\n",
    "\n",
    "# Local path for the model \n",
    "model = gensim.models.KeyedVectors.load_word2vec_format(model_path, binary=True)"
   ]
  },
  {
   "cell_type": "code",
   "execution_count": 4,
   "metadata": {},
   "outputs": [
    {
     "data": {
      "text/plain": [
       "[('cappuccino', 0.6888187527656555),\n",
       " ('mocha', 0.6686208248138428),\n",
       " ('coffee', 0.6616826057434082),\n",
       " ('latte', 0.653675377368927),\n",
       " ('caramel_macchiato', 0.6491267681121826),\n",
       " ('ristretto', 0.6485545635223389),\n",
       " ('espressos', 0.6438629031181335),\n",
       " ('macchiato', 0.6428249478340149),\n",
       " ('chai_latte', 0.6308028697967529),\n",
       " ('espresso_cappuccino', 0.6280542612075806)]"
      ]
     },
     "execution_count": 4,
     "metadata": {},
     "output_type": "execute_result"
    }
   ],
   "source": [
    "# most_similar(): compute the cosine distance  \n",
    "model.most_similar(positive=['espresso'])"
   ]
  },
  {
   "cell_type": "code",
   "execution_count": 5,
   "metadata": {},
   "outputs": [],
   "source": [
    "def A_is_to_B_as_C_is_to(a, b, c, topn=1):\n",
    "    # map() returns iterables, if no list disgnated, need to convert to the list format \n",
    "    # such as [x] that include x in the sqaure bracker [] in the else clause. \n",
    "    a, b, c = map(lambda x:x if type(x) == list else [x], (a, b, c))\n",
    "    # topn: three words most similar \n",
    "    res = model.most_similar(positive=b + c, negative=a, topn=topn)\n",
    "    if len(res):\n",
    "        if topn == 1:\n",
    "            return res[0][0]\n",
    "        return [x[0] for x in res]\n",
    "    return None"
   ]
  },
  {
   "cell_type": "code",
   "execution_count": 6,
   "metadata": {},
   "outputs": [
    {
     "data": {
      "text/plain": [
       "'queen'"
      ]
     },
     "execution_count": 6,
     "metadata": {},
     "output_type": "execute_result"
    }
   ],
   "source": [
    "A_is_to_B_as_C_is_to('man', 'woman', 'king')"
   ]
  },
  {
   "cell_type": "code",
   "execution_count": 7,
   "metadata": {},
   "outputs": [
    {
     "name": "stdout",
     "output_type": "stream",
     "text": [
      "Rome is the capital of Italy\n",
      "Paris is the capital of France\n",
      "Delhi is the capital of India\n",
      "Beijing is the capital of China\n"
     ]
    }
   ],
   "source": [
    "# We use this equation to acurately predict the capitals of countries. For the funcation\n",
    "# call, the arguments are listed in the tuple. \n",
    "\n",
    "for country in 'Italy', 'France', 'India', 'China':\n",
    "    print('%s is the capital of %s' % \n",
    "          (A_is_to_B_as_C_is_to('Germany', 'Berlin', country), country))\n",
    "          # (A_is_to_B_as_C_is_to('Germany', 'Berlin', country), country))"
   ]
  },
  {
   "cell_type": "code",
   "execution_count": 8,
   "metadata": {},
   "outputs": [
    {
     "name": "stdout",
     "output_type": "stream",
     "text": [
      "Google -> personalized_homepage, app, Gmail\n",
      "IBM -> DB2, WebSphere_Portal, Tamino_XML_Server\n",
      "Boeing -> Dreamliner, airframe, aircraft\n",
      "Microsoft -> Windows_Mobile, SyncMate, Windows\n",
      "Samsung -> MM_A###, handset, Samsung_SCH_B###\n"
     ]
    }
   ],
   "source": [
    "# Items of each list are necessary to be alternately permutated. If users write the combination \n",
    "# of ['Starbucks', 'Starbucks_coffee'] and ['Apple', 'iPhone'] in the bracket, the result will \n",
    "# be a big mistake. Please note that numbers are replaced by # in the embedding model:\n",
    "\n",
    "for company in 'Google', 'IBM', 'Boeing', 'Microsoft', 'Samsung':\n",
    "    products = A_is_to_B_as_C_is_to(\n",
    "        ['Starbucks', 'Apple'], \n",
    "        ['Starbucks_coffee', 'iPhone'], \n",
    "        company, topn=3)\n",
    "    print('%s -> %s' % \n",
    "          (company, ', '.join(products)))"
   ]
  },
  {
   "cell_type": "code",
   "execution_count": 9,
   "metadata": {},
   "outputs": [
    {
     "data": {
      "text/plain": [
       "18"
      ]
     },
     "execution_count": 9,
     "metadata": {},
     "output_type": "execute_result"
    }
   ],
   "source": [
    "# Let's do some clustering by picking three categories of items, drinks, countries and sports:\n",
    "\n",
    "beverages = ['espresso', 'beer', 'vodka', 'wine', 'cola', 'tea']\n",
    "countries = ['Italy', 'Germany', 'Russia', 'France', 'USA', 'India']\n",
    "sports = ['soccer', 'handball', 'hockey', 'cycling', 'basketball', 'cricket']\n",
    "\n",
    "items = beverages + countries + sports\n",
    "len(items)"
   ]
  },
  {
   "cell_type": "code",
   "execution_count": 10,
   "metadata": {},
   "outputs": [
    {
     "data": {
      "text/plain": [
       "18"
      ]
     },
     "execution_count": 10,
     "metadata": {},
     "output_type": "execute_result"
    }
   ],
   "source": [
    "# And looking up their vectors:\n",
    "\n",
    "item_vectors = [(item, model[item]) \n",
    "                    for item in items\n",
    "                    if item in model]\n",
    "len(item_vectors)"
   ]
  },
  {
   "cell_type": "code",
   "execution_count": 11,
   "metadata": {},
   "outputs": [
    {
     "name": "stdout",
     "output_type": "stream",
     "text": [
      "[t-SNE] Computing 17 nearest neighbors...\n",
      "[t-SNE] Indexed 18 samples in 0.000s...\n",
      "[t-SNE] Computed neighbors for 18 samples in 0.071s...\n",
      "[t-SNE] Computed conditional probabilities for sample 18 / 18\n",
      "[t-SNE] Mean sigma: 0.581543\n",
      "[t-SNE] Computed conditional probabilities in 0.029s\n",
      "[t-SNE] Iteration 50: error = 46.7927628, gradient norm = 0.2707537 (50 iterations in 0.021s)\n",
      "[t-SNE] Iteration 100: error = 56.4743042, gradient norm = 0.1706062 (50 iterations in 0.009s)\n",
      "[t-SNE] Iteration 150: error = 70.1204224, gradient norm = 0.3023424 (50 iterations in 0.010s)\n",
      "[t-SNE] Iteration 200: error = 67.2994614, gradient norm = 0.4123789 (50 iterations in 0.009s)\n",
      "[t-SNE] Iteration 250: error = 77.9363861, gradient norm = 0.3963294 (50 iterations in 0.009s)\n",
      "[t-SNE] KL divergence after 250 iterations with early exaggeration: 77.936386\n",
      "[t-SNE] Iteration 300: error = 0.9108226, gradient norm = 0.0009977 (50 iterations in 0.009s)\n",
      "[t-SNE] Iteration 350: error = 0.7259920, gradient norm = 0.0004936 (50 iterations in 0.009s)\n",
      "[t-SNE] Iteration 400: error = 0.5451478, gradient norm = 0.0005176 (50 iterations in 0.009s)\n",
      "[t-SNE] Iteration 450: error = 0.3482645, gradient norm = 0.0005584 (50 iterations in 0.009s)\n",
      "[t-SNE] Iteration 500: error = 0.3005446, gradient norm = 0.0001933 (50 iterations in 0.009s)\n",
      "[t-SNE] Iteration 550: error = 0.2862046, gradient norm = 0.0001075 (50 iterations in 0.009s)\n",
      "[t-SNE] Iteration 600: error = 0.2741892, gradient norm = 0.0001406 (50 iterations in 0.025s)\n",
      "[t-SNE] Iteration 650: error = 0.2550625, gradient norm = 0.0000841 (50 iterations in 0.016s)\n",
      "[t-SNE] Iteration 700: error = 0.2517077, gradient norm = 0.0000407 (50 iterations in 0.010s)\n",
      "[t-SNE] Iteration 750: error = 0.2505731, gradient norm = 0.0000437 (50 iterations in 0.009s)\n",
      "[t-SNE] Iteration 800: error = 0.2469993, gradient norm = 0.0000808 (50 iterations in 0.009s)\n",
      "[t-SNE] Iteration 850: error = 0.2428950, gradient norm = 0.0000342 (50 iterations in 0.009s)\n",
      "[t-SNE] Iteration 900: error = 0.2419803, gradient norm = 0.0000266 (50 iterations in 0.009s)\n",
      "[t-SNE] Iteration 950: error = 0.2404588, gradient norm = 0.0000252 (50 iterations in 0.009s)\n",
      "[t-SNE] Iteration 1000: error = 0.2387776, gradient norm = 0.0000378 (50 iterations in 0.009s)\n",
      "[t-SNE] KL divergence after 1000 iterations: 0.238778\n"
     ]
    }
   ],
   "source": [
    "# Now use TSNE for clustering:\n",
    "\n",
    "from sklearn.manifold import TSNE\n",
    "\n",
    "vectors = np.asarray([x[1] for x in item_vectors])\n",
    "lengths = np.linalg.norm(vectors, axis=1)\n",
    "norm_vectors = (vectors.T / lengths).T\n",
    "\n",
    "tsne = TSNE(n_components=2, perplexity=10, verbose=2).fit_transform(norm_vectors)"
   ]
  },
  {
   "cell_type": "code",
   "execution_count": 12,
   "metadata": {},
   "outputs": [
    {
     "data": {
      "image/png": "[encoded data removed]",
      "text/plain": [
       "<Figure size 720x720 with 1 Axes>"
      ]
     },
     "metadata": {
      "needs_background": "light"
     },
     "output_type": "display_data"
    }
   ],
   "source": [
    "# And matplotlib to show the results. As you can see the countries, sports and drinks all form \n",
    "# their own little clusters, with arguably cricket and India attracting each other and maybe \n",
    "# less clear, wine and France and Italy and espresso.\n",
    "\n",
    "x=tsne[:,0]\n",
    "y=tsne[:,1]\n",
    "\n",
    "fig, ax = plt.subplots()\n",
    "ax.scatter(x, y)\n",
    "\n",
    "for item, x1, y1 in zip(item_vectors, x, y):\n",
    "    ax.annotate(item[0], (x1, y1), size=14)\n",
    "\n",
    "plt.show()"
   ]
  },
  {
   "cell_type": "code",
   "execution_count": 13,
   "metadata": {},
   "outputs": [],
   "source": [
    "# Release the GPU memory\n",
    "\n",
    "from numba import cuda\n",
    "\n",
    "cuda.select_device(0)\n",
    "cuda.close()"
   ]
  }
 ],
 "metadata": {
  "kernelspec": {
   "display_name": "Python 3",
   "language": "python",
   "name": "python3"
  },
  "language_info": {
   "codemirror_mode": {
    "name": "ipython",
    "version": 3
   },
   "file_extension": ".py",
   "mimetype": "text/x-python",
   "name": "python",
   "nbconvert_exporter": "python",
   "pygments_lexer": "ipython3",
   "version": "3.7.7"
  }
 },
 "nbformat": 4,
 "nbformat_minor": 4
}
