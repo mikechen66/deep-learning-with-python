{
 "cells": [
  {
   "cell_type": "code",
   "execution_count": 1,
   "metadata": {},
   "outputs": [],
   "source": [
    "import os\n",
    "from keras.utils import get_file\n",
    "import gensim\n",
    "import subprocess\n",
    "import numpy as np\n",
    "import matplotlib.pyplot as plt\n",
    "from IPython.core.pylabtools import figsize\n",
    "figsize(10, 10)"
   ]
  },
  {
   "cell_type": "code",
   "execution_count": 2,
   "metadata": {},
   "outputs": [],
   "source": [
    "import tensorflow as tf\n",
    "\n",
    "# Set up the GPU to avoid the runtime error: Could not create cuDNN handle...\n",
    "gpus = tf.config.experimental.list_physical_devices('GPU')\n",
    "for gpu in gpus:\n",
    "    tf.config.experimental.set_memory_growth(gpu, True)"
   ]
  },
  {
   "cell_type": "code",
   "execution_count": 3,
   "metadata": {},
   "outputs": [],
   "source": [
    "# We'll start the program by the GoogleNews in the local file. \n",
    "\n",
    "model_path = \"/home/mic/datasets/GoogleNews-vectors-negative300.bin\"\n",
    "\n",
    "# Local path for the model \n",
    "model = gensim.models.KeyedVectors.load_word2vec_format(model_path, binary=True)"
   ]
  },
  {
   "cell_type": "code",
   "execution_count": 4,
   "metadata": {},
   "outputs": [
    {
     "data": {
      "text/plain": [
       "[('cappuccino', 0.6888187527656555),\n",
       " ('mocha', 0.6686208248138428),\n",
       " ('coffee', 0.6616826057434082),\n",
       " ('latte', 0.653675377368927),\n",
       " ('caramel_macchiato', 0.6491267681121826),\n",
       " ('ristretto', 0.6485545635223389),\n",
       " ('espressos', 0.6438629031181335),\n",
       " ('macchiato', 0.6428249478340149),\n",
       " ('chai_latte', 0.6308028697967529),\n",
       " ('espresso_cappuccino', 0.6280542612075806)]"
      ]
     },
     "execution_count": 4,
     "metadata": {},
     "output_type": "execute_result"
    }
   ],
   "source": [
    "# most_similar(): compute the cosine distance  \n",
    "model.most_similar(positive=['espresso'])"
   ]
  },
  {
   "cell_type": "code",
   "execution_count": 5,
   "metadata": {},
   "outputs": [],
   "source": [
    "def A_is_to_B_as_C_is_to(a, b, c, topn=1):\n",
    "    # map() returns iterables, if no list disgnated, need to convert to the list format \n",
    "    # such as [x] that include x in the sqaure bracker [] in the else clause. \n",
    "    a, b, c = map(lambda x:x if type(x) == list else [x], (a, b, c))\n",
    "    # topn: three words most similar \n",
    "    res = model.most_similar(positive=b + c, negative=a, topn=topn)\n",
    "    if len(res):\n",
    "        if topn == 1:\n",
    "            return res[0][0]\n",
    "        return [x[0] for x in res]\n",
    "    return None"
   ]
  },
  {
   "cell_type": "code",
   "execution_count": 6,
   "metadata": {},
   "outputs": [
    {
     "data": {
      "text/plain": [
       "'queen'"
      ]
     },
     "execution_count": 6,
     "metadata": {},
     "output_type": "execute_result"
    }
   ],
   "source": [
    "A_is_to_B_as_C_is_to('man', 'woman', 'king')"
   ]
  },
  {
   "cell_type": "code",
   "execution_count": 7,
   "metadata": {},
   "outputs": [
    {
     "name": "stdout",
     "output_type": "stream",
     "text": [
      "Rome is the capital of Italy\n",
      "Paris is the capital of France\n",
      "Delhi is the capital of India\n",
      "Beijing is the capital of China\n"
     ]
    }
   ],
   "source": [
    "# We can use this equation to acurately predict the capitals of countries by looking at what \n",
    "# has the same relationship as Berlin has to Germany for selected countries:\n",
    "\n",
    "for country in 'Italy', 'France', 'India', 'China':\n",
    "    print('%s is the capital of %s' % \n",
    "          (A_is_to_B_as_C_is_to('Germany', 'Berlin', country), country))\n",
    "          # (A_is_to_B_as_C_is_to('Germany', 'Berlin', country), country))"
   ]
  },
  {
   "cell_type": "code",
   "execution_count": 8,
   "metadata": {},
   "outputs": [
    {
     "name": "stdout",
     "output_type": "stream",
     "text": [
      "Google -> personalized_homepage, app, Gmail\n",
      "IBM -> DB2, WebSphere_Portal, Tamino_XML_Server\n",
      "Boeing -> Dreamliner, airframe, aircraft\n",
      "Microsoft -> Windows_Mobile, SyncMate, Windows\n",
      "Samsung -> MM_A###, handset, Samsung_SCH_B###\n"
     ]
    }
   ],
   "source": [
    "# Or we can do the same for important products for given companies. Here we seed the products \n",
    "# equation with two products, the iPhone for Apple and Starbucks_coffee for Starbucks. Note \n",
    "# that numbers are replaced by # in the embedding model:\n",
    "\n",
    "for company in 'Google', 'IBM', 'Boeing', 'Microsoft', 'Samsung':\n",
    "    products = A_is_to_B_as_C_is_to(\n",
    "        ['Starbucks', 'Apple'], \n",
    "        ['Starbucks_coffee', 'iPhone'], \n",
    "        company, topn=3)\n",
    "    print('%s -> %s' % \n",
    "          (company, ', '.join(products)))"
   ]
  },
  {
   "cell_type": "code",
   "execution_count": 9,
   "metadata": {},
   "outputs": [
    {
     "name": "stdout",
     "output_type": "stream",
     "text": [
      "Google -> personalized_homepage, app, Gmail\n",
      "IBM -> DB2, WebSphere_Portal, Tamino_XML_Server\n",
      "Boeing -> Dreamliner, airframe, aircraft\n",
      "Microsoft -> Windows_Mobile, SyncMate, Windows\n",
      "Samsung -> MM_A###, handset, Samsung_SCH_B###\n"
     ]
    }
   ],
   "source": [
    "# Or we can do the same for important products for given companies. Here we seed the products \n",
    "# equation with two products, the iPhone for Apple and Starbucks_coffee for Starbucks. Note \n",
    "# that numbers are replaced by # in the embedding model:\n",
    "\n",
    "for company in 'Google', 'IBM', 'Boeing', 'Microsoft', 'Samsung':\n",
    "    products = A_is_to_B_as_C_is_to(\n",
    "        ['Starbucks', 'Apple'], \n",
    "        ['Starbucks_coffee', 'iPhone'], \n",
    "        company, topn=3)\n",
    "    print('%s -> %s' % \n",
    "          (company, ', '.join(products)))"
   ]
  },
  {
   "cell_type": "code",
   "execution_count": 10,
   "metadata": {},
   "outputs": [
    {
     "data": {
      "text/plain": [
       "18"
      ]
     },
     "execution_count": 10,
     "metadata": {},
     "output_type": "execute_result"
    }
   ],
   "source": [
    "# Let's do some clustering by picking three categories of items, drinks, countries and sports:\n",
    "\n",
    "beverages = ['espresso', 'beer', 'vodka', 'wine', 'cola', 'tea']\n",
    "countries = ['Italy', 'Germany', 'Russia', 'France', 'USA', 'India']\n",
    "sports = ['soccer', 'handball', 'hockey', 'cycling', 'basketball', 'cricket']\n",
    "\n",
    "items = beverages + countries + sports\n",
    "len(items)"
   ]
  },
  {
   "cell_type": "code",
   "execution_count": 11,
   "metadata": {},
   "outputs": [
    {
     "data": {
      "text/plain": [
       "18"
      ]
     },
     "execution_count": 11,
     "metadata": {},
     "output_type": "execute_result"
    }
   ],
   "source": [
    "# And looking up their vectors:\n",
    "\n",
    "item_vectors = [(item, model[item]) \n",
    "                    for item in items\n",
    "                    if item in model]\n",
    "len(item_vectors)"
   ]
  },
  {
   "cell_type": "code",
   "execution_count": 12,
   "metadata": {},
   "outputs": [
    {
     "name": "stdout",
     "output_type": "stream",
     "text": [
      "[t-SNE] Computing 17 nearest neighbors...\n",
      "[t-SNE] Indexed 18 samples in 0.000s...\n",
      "[t-SNE] Computed neighbors for 18 samples in 0.078s...\n",
      "[t-SNE] Computed conditional probabilities for sample 18 / 18\n",
      "[t-SNE] Mean sigma: 0.581543\n",
      "[t-SNE] Computed conditional probabilities in 0.033s\n",
      "[t-SNE] Iteration 50: error = 47.3403854, gradient norm = 0.2760773 (50 iterations in 0.023s)\n",
      "[t-SNE] Iteration 100: error = 64.2329636, gradient norm = 0.6158621 (50 iterations in 0.009s)\n",
      "[t-SNE] Iteration 150: error = 58.5155792, gradient norm = 0.1716881 (50 iterations in 0.009s)\n",
      "[t-SNE] Iteration 200: error = 55.1617661, gradient norm = 0.0663884 (50 iterations in 0.009s)\n",
      "[t-SNE] Iteration 250: error = 49.7304192, gradient norm = 0.0579752 (50 iterations in 0.009s)\n",
      "[t-SNE] KL divergence after 250 iterations with early exaggeration: 49.730419\n",
      "[t-SNE] Iteration 300: error = 0.8093246, gradient norm = 0.0009591 (50 iterations in 0.009s)\n",
      "[t-SNE] Iteration 350: error = 0.5392826, gradient norm = 0.0004506 (50 iterations in 0.009s)\n",
      "[t-SNE] Iteration 400: error = 0.4299564, gradient norm = 0.0001942 (50 iterations in 0.009s)\n",
      "[t-SNE] Iteration 450: error = 0.4127985, gradient norm = 0.0001513 (50 iterations in 0.009s)\n",
      "[t-SNE] Iteration 500: error = 0.3562274, gradient norm = 0.0004131 (50 iterations in 0.009s)\n",
      "[t-SNE] Iteration 550: error = 0.2390364, gradient norm = 0.0003001 (50 iterations in 0.027s)\n",
      "[t-SNE] Iteration 600: error = 0.1954021, gradient norm = 0.0001802 (50 iterations in 0.010s)\n",
      "[t-SNE] Iteration 650: error = 0.1833436, gradient norm = 0.0001589 (50 iterations in 0.010s)\n",
      "[t-SNE] Iteration 700: error = 0.1695915, gradient norm = 0.0000518 (50 iterations in 0.010s)\n",
      "[t-SNE] Iteration 750: error = 0.1679477, gradient norm = 0.0000369 (50 iterations in 0.010s)\n",
      "[t-SNE] Iteration 800: error = 0.1657467, gradient norm = 0.0000328 (50 iterations in 0.009s)\n",
      "[t-SNE] Iteration 850: error = 0.1634863, gradient norm = 0.0000302 (50 iterations in 0.009s)\n",
      "[t-SNE] Iteration 900: error = 0.1585506, gradient norm = 0.0000792 (50 iterations in 0.009s)\n",
      "[t-SNE] Iteration 950: error = 0.1566861, gradient norm = 0.0000524 (50 iterations in 0.009s)\n",
      "[t-SNE] Iteration 1000: error = 0.1505911, gradient norm = 0.0000497 (50 iterations in 0.009s)\n",
      "[t-SNE] KL divergence after 1000 iterations: 0.150591\n"
     ]
    }
   ],
   "source": [
    "# Now use TSNE for clustering:\n",
    "\n",
    "from sklearn.manifold import TSNE\n",
    "\n",
    "vectors = np.asarray([x[1] for x in item_vectors])\n",
    "lengths = np.linalg.norm(vectors, axis=1)\n",
    "norm_vectors = (vectors.T / lengths).T\n",
    "\n",
    "tsne = TSNE(n_components=2, perplexity=10, verbose=2).fit_transform(norm_vectors)"
   ]
  },
  {
   "cell_type": "code",
   "execution_count": 13,
   "metadata": {},
   "outputs": [
    {
     "data": {
      "image/png": "[encoded data removed]",
      "text/plain": [
       "<Figure size 720x720 with 1 Axes>"
      ]
     },
     "metadata": {
      "needs_background": "light"
     },
     "output_type": "display_data"
    }
   ],
   "source": [
    "# And matplotlib to show the results. As you can see the countries, sports and drinks all form \n",
    "# their own little clusters, with arguably cricket and India attracting each other and maybe \n",
    "# less clear, wine and France and Italy and espresso.\n",
    "\n",
    "x=tsne[:,0]\n",
    "y=tsne[:,1]\n",
    "\n",
    "fig, ax = plt.subplots()\n",
    "ax.scatter(x, y)\n",
    "\n",
    "for item, x1, y1 in zip(item_vectors, x, y):\n",
    "    ax.annotate(item[0], (x1, y1), size=14)\n",
    "\n",
    "plt.show()"
   ]
  },
  {
   "cell_type": "code",
   "execution_count": 14,
   "metadata": {},
   "outputs": [],
   "source": [
    "# Release the GPU memory\n",
    "\n",
    "from numba import cuda\n",
    "\n",
    "cuda.select_device(0)\n",
    "cuda.close()"
   ]
  },
  {
   "cell_type": "code",
   "execution_count": null,
   "metadata": {},
   "outputs": [],
   "source": []
  }
 ],
 "metadata": {
  "kernelspec": {
   "display_name": "Python 3",
   "language": "python",
   "name": "python3"
  },
  "language_info": {
   "codemirror_mode": {
    "name": "ipython",
    "version": 3
   },
   "file_extension": ".py",
   "mimetype": "text/x-python",
   "name": "python",
   "nbconvert_exporter": "python",
   "pygments_lexer": "ipython3",
   "version": "3.7.7"
  }
 },
 "nbformat": 4,
 "nbformat_minor": 4
}
