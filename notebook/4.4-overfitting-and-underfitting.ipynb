{
 "cells": [
  {
   "cell_type": "code",
   "execution_count": 1,
   "metadata": {},
   "outputs": [
    {
     "data": {
      "text/plain": [
       "'2.4.3'"
      ]
     },
     "execution_count": 1,
     "metadata": {},
     "output_type": "execute_result"
    }
   ],
   "source": [
    "import keras\n",
    "keras.__version__"
   ]
  },
  {
   "cell_type": "markdown",
   "metadata": {},
   "source": [
    "# Overfitting and underfitting\n",
    "\n",
    "This notebook contains the code samples found in Chapter 3, Section 6 of [Deep Learning with Python](https://www.manning.com/books/deep-learning-with-python?a_aid=keras&a_bid=76564dff). Note that the original text features far more content, in particular further explanations and figures: in this notebook, you will only find source code and related comments.\n",
    "\n",
    "----\n",
    "\n",
    "\n",
    "In all the examples we saw in the previous chapter -- movie review sentiment prediction, topic classification, and house price regression -- \n",
    "we could notice that the performance of our model on the held-out validation data would always peak after a few epochs and would then start \n",
    "degrading, i.e. our model would quickly start to _overfit_ to the training data. Overfitting happens in every single machine learning \n",
    "problem. Learning how to deal with overfitting is essential to mastering machine learning.\n",
    "\n",
    "The fundamental issue in machine learning is the tension between optimization and generalization. \"Optimization\" refers to the process of \n",
    "adjusting a model to get the best performance possible on the training data (the \"learning\" in \"machine learning\"), while \"generalization\" \n",
    "refers to how well the trained model would perform on data it has never seen before. The goal of the game is to get good generalization, of \n",
    "course, but you do not control generalization; you can only adjust the model based on its training data.\n",
    "\n",
    "At the beginning of training, optimization and generalization are correlated: the lower your loss on training data, the lower your loss on \n",
    "test data. While this is happening, your model is said to be _under-fit_: there is still progress to be made; the network hasn't yet \n",
    "modeled all relevant patterns in the training data. But after a certain number of iterations on the training data, generalization stops \n",
    "improving, validation metrics stall then start degrading: the model is then starting to over-fit, i.e. is it starting to learn patterns \n",
    "that are specific to the training data but that are misleading or irrelevant when it comes to new data.\n",
    "\n",
    "To prevent a model from learning misleading or irrelevant patterns found in the training data, _the best solution is of course to get \n",
    "more training data_. A model trained on more data will naturally generalize better. When that is no longer possible, the next best solution \n",
    "is to modulate the quantity of information that your model is allowed to store, or to add constraints on what information it is allowed to \n",
    "store. If a network can only afford to memorize a small number of patterns, the optimization process will force it to focus on the most \n",
    "prominent patterns, which have a better chance of generalizing well.\n",
    "\n",
    "The processing of fighting overfitting in this way is called _regularization_. Let's review some of the most common regularization \n",
    "techniques, and let's apply them in practice to improve our movie classification model from  the previous chapter."
   ]
  },
  {
   "cell_type": "markdown",
   "metadata": {},
   "source": [
    "Note: in this notebook we will be using the IMDB test set as our validation set. It doesn't matter in this context.\n",
    "\n",
    "Let's prepare the data using the code from Chapter 3, Section 5:"
   ]
  },
  {
   "cell_type": "code",
   "execution_count": 2,
   "metadata": {},
   "outputs": [],
   "source": [
    "from keras.datasets import imdb\n",
    "import numpy as np\n",
    "\n",
    "(train_data, train_labels), (test_data, test_labels) = imdb.load_data(num_words=10000)\n",
    "\n",
    "def vectorize_sequences(sequences, dimension=10000):\n",
    "    # Create an all-zero matrix of shape (len(sequences), dimension)\n",
    "    results = np.zeros((len(sequences), dimension))\n",
    "    for i, sequence in enumerate(sequences):\n",
    "        results[i, sequence] = 1.  # set specific indices of results[i] to 1s\n",
    "    return results\n",
    "\n",
    "# Our vectorized training data\n",
    "x_train = vectorize_sequences(train_data)\n",
    "# Our vectorized test data\n",
    "x_test = vectorize_sequences(test_data)\n",
    "# Our vectorized labels\n",
    "y_train = np.asarray(train_labels).astype('float32')\n",
    "y_test = np.asarray(test_labels).astype('float32')"
   ]
  },
  {
   "cell_type": "markdown",
   "metadata": {},
   "source": [
    "# Fighting overfitting\n",
    "\n",
    "## Reducing the network's size\n",
    "\n",
    "\n",
    "The simplest way to prevent overfitting is to reduce the size of the model, i.e. the number of learnable parameters in the model (which is \n",
    "determined by the number of layers and the number of units per layer). In deep learning, the number of learnable parameters in a model is \n",
    "often referred to as the model's \"capacity\". Intuitively, a model with more parameters will have more \"memorization capacity\" and therefore \n",
    "will be able to easily learn a perfect dictionary-like mapping between training samples and their targets, a mapping without any \n",
    "generalization power. For instance, a model with 500,000 binary parameters could easily be made to learn the class of every digits in the \n",
    "MNIST training set: we would only need 10 binary parameters for each of the 50,000 digits. Such a model would be useless for classifying \n",
    "new digit samples. Always keep this in mind: deep learning models tend to be good at fitting to the training data, but the real challenge \n",
    "is generalization, not fitting.\n",
    "\n",
    "On the other hand, if the network has limited memorization resources, it will not be able to learn this mapping as easily, and thus, in \n",
    "order to minimize its loss, it will have to resort to learning compressed representations that have predictive power regarding the targets \n",
    "-- precisely the type of representations that we are interested in. At the same time, keep in mind that you should be using models that have \n",
    "enough parameters that they won't be underfitting: your model shouldn't be starved for memorization resources. There is a compromise to be \n",
    "found between \"too much capacity\" and \"not enough capacity\".\n",
    "\n",
    "Unfortunately, there is no magical formula to determine what the right number of layers is, or what the right size for each layer is. You \n",
    "will have to evaluate an array of different architectures (on your validation set, not on your test set, of course) in order to find the \n",
    "right model size for your data. The general workflow to find an appropriate model size is to start with relatively few layers and \n",
    "parameters, and start increasing the size of the layers or adding new layers until you see diminishing returns with regard to the \n",
    "validation loss.\n",
    "\n",
    "Let's try this on our movie review classification network. Our original network was as such:"
   ]
  },
  {
   "cell_type": "code",
   "execution_count": 3,
   "metadata": {},
   "outputs": [],
   "source": [
    "from keras import models\n",
    "from keras import layers\n",
    "\n",
    "original_model = models.Sequential()\n",
    "original_model.add(layers.Dense(16, activation='relu', input_shape=(10000,)))\n",
    "original_model.add(layers.Dense(16, activation='relu'))\n",
    "original_model.add(layers.Dense(1, activation='sigmoid'))\n",
    "\n",
    "original_model.compile(optimizer='rmsprop',\n",
    "                       loss='binary_crossentropy',\n",
    "                       metrics=['acc'])"
   ]
  },
  {
   "cell_type": "markdown",
   "metadata": {},
   "source": [
    "Now let's try to replace it with this smaller network:"
   ]
  },
  {
   "cell_type": "code",
   "execution_count": 4,
   "metadata": {},
   "outputs": [],
   "source": [
    "smaller_model = models.Sequential()\n",
    "smaller_model.add(layers.Dense(4, activation='relu', input_shape=(10000,)))\n",
    "smaller_model.add(layers.Dense(4, activation='relu'))\n",
    "smaller_model.add(layers.Dense(1, activation='sigmoid'))\n",
    "\n",
    "smaller_model.compile(optimizer='rmsprop',\n",
    "                      loss='binary_crossentropy',\n",
    "                      metrics=['acc'])"
   ]
  },
  {
   "cell_type": "markdown",
   "metadata": {},
   "source": [
    "\n",
    "Here's a comparison of the validation losses of the original network and the smaller network. The dots are the validation loss values of \n",
    "the smaller network, and the crosses are the initial network (remember: a lower validation loss signals a better model)."
   ]
  },
  {
   "cell_type": "code",
   "execution_count": 5,
   "metadata": {},
   "outputs": [
    {
     "name": "stdout",
     "output_type": "stream",
     "text": [
      "Epoch 1/20\n",
      "49/49 [==============================] - 1s 25ms/step - loss: 0.4526 - acc: 0.8274 - val_loss: 0.3352 - val_acc: 0.8832\n",
      "Epoch 2/20\n",
      "49/49 [==============================] - 1s 11ms/step - loss: 0.2610 - acc: 0.9106 - val_loss: 0.2882 - val_acc: 0.8860\n",
      "Epoch 3/20\n",
      "49/49 [==============================] - 1s 12ms/step - loss: 0.2011 - acc: 0.9288 - val_loss: 0.2800 - val_acc: 0.8880\n",
      "Epoch 4/20\n",
      "49/49 [==============================] - 1s 11ms/step - loss: 0.1716 - acc: 0.9393 - val_loss: 0.2914 - val_acc: 0.8834\n",
      "Epoch 5/20\n",
      "49/49 [==============================] - 1s 11ms/step - loss: 0.1461 - acc: 0.9499 - val_loss: 0.3176 - val_acc: 0.8779\n",
      "Epoch 6/20\n",
      "49/49 [==============================] - 1s 12ms/step - loss: 0.1303 - acc: 0.9555 - val_loss: 0.3269 - val_acc: 0.8764\n",
      "Epoch 7/20\n",
      "49/49 [==============================] - 1s 11ms/step - loss: 0.1187 - acc: 0.9590 - val_loss: 0.3503 - val_acc: 0.8732\n",
      "Epoch 8/20\n",
      "49/49 [==============================] - 1s 12ms/step - loss: 0.1051 - acc: 0.9645 - val_loss: 0.3751 - val_acc: 0.8702\n",
      "Epoch 9/20\n",
      "49/49 [==============================] - 1s 11ms/step - loss: 0.0955 - acc: 0.9673 - val_loss: 0.3961 - val_acc: 0.8677\n",
      "Epoch 10/20\n",
      "49/49 [==============================] - 1s 11ms/step - loss: 0.0846 - acc: 0.9722 - val_loss: 0.4363 - val_acc: 0.8621\n",
      "Epoch 11/20\n",
      "49/49 [==============================] - 1s 11ms/step - loss: 0.0762 - acc: 0.9761 - val_loss: 0.4526 - val_acc: 0.8647\n",
      "Epoch 12/20\n",
      "49/49 [==============================] - 1s 11ms/step - loss: 0.0685 - acc: 0.9778 - val_loss: 0.4804 - val_acc: 0.8602\n",
      "Epoch 13/20\n",
      "49/49 [==============================] - 1s 12ms/step - loss: 0.0602 - acc: 0.9820 - val_loss: 0.5131 - val_acc: 0.8583\n",
      "Epoch 14/20\n",
      "49/49 [==============================] - 1s 12ms/step - loss: 0.0545 - acc: 0.9830 - val_loss: 0.5496 - val_acc: 0.8561\n",
      "Epoch 15/20\n",
      "49/49 [==============================] - 1s 11ms/step - loss: 0.0480 - acc: 0.9862 - val_loss: 0.5831 - val_acc: 0.8536\n",
      "Epoch 16/20\n",
      "49/49 [==============================] - 1s 12ms/step - loss: 0.0416 - acc: 0.9879 - val_loss: 0.6205 - val_acc: 0.8518\n",
      "Epoch 17/20\n",
      "49/49 [==============================] - 1s 12ms/step - loss: 0.0362 - acc: 0.9903 - val_loss: 0.6525 - val_acc: 0.8502\n",
      "Epoch 18/20\n",
      "49/49 [==============================] - 1s 11ms/step - loss: 0.0326 - acc: 0.9911 - val_loss: 0.6741 - val_acc: 0.8504\n",
      "Epoch 19/20\n",
      "49/49 [==============================] - 1s 11ms/step - loss: 0.0277 - acc: 0.9925 - val_loss: 0.7187 - val_acc: 0.8501\n",
      "Epoch 20/20\n",
      "49/49 [==============================] - 1s 11ms/step - loss: 0.0231 - acc: 0.9939 - val_loss: 0.8864 - val_acc: 0.8340\n"
     ]
    }
   ],
   "source": [
    "original_hist = original_model.fit(x_train, y_train,\n",
    "                                   epochs=20,\n",
    "                                   batch_size=512,\n",
    "                                   validation_data=(x_test, y_test))"
   ]
  },
  {
   "cell_type": "code",
   "execution_count": 6,
   "metadata": {},
   "outputs": [
    {
     "name": "stdout",
     "output_type": "stream",
     "text": [
      "Epoch 1/20\n",
      "49/49 [==============================] - 1s 23ms/step - loss: 0.5868 - acc: 0.7026 - val_loss: 0.5304 - val_acc: 0.7959\n",
      "Epoch 2/20\n",
      "49/49 [==============================] - 1s 11ms/step - loss: 0.4786 - acc: 0.8536 - val_loss: 0.4779 - val_acc: 0.8479\n",
      "Epoch 3/20\n",
      "49/49 [==============================] - 1s 11ms/step - loss: 0.4234 - acc: 0.8975 - val_loss: 0.4477 - val_acc: 0.8724\n",
      "Epoch 4/20\n",
      "49/49 [==============================] - 1s 12ms/step - loss: 0.3825 - acc: 0.9199 - val_loss: 0.4315 - val_acc: 0.8723\n",
      "Epoch 5/20\n",
      "49/49 [==============================] - 1s 11ms/step - loss: 0.3465 - acc: 0.9350 - val_loss: 0.4118 - val_acc: 0.8808\n",
      "Epoch 6/20\n",
      "49/49 [==============================] - 1s 11ms/step - loss: 0.3129 - acc: 0.9452 - val_loss: 0.4011 - val_acc: 0.8791\n",
      "Epoch 7/20\n",
      "49/49 [==============================] - 1s 11ms/step - loss: 0.2822 - acc: 0.9532 - val_loss: 0.3975 - val_acc: 0.8767\n",
      "Epoch 8/20\n",
      "49/49 [==============================] - 1s 11ms/step - loss: 0.2527 - acc: 0.9590 - val_loss: 0.3817 - val_acc: 0.8758\n",
      "Epoch 9/20\n",
      "49/49 [==============================] - 1s 11ms/step - loss: 0.2253 - acc: 0.9645 - val_loss: 0.3833 - val_acc: 0.8741\n",
      "Epoch 10/20\n",
      "49/49 [==============================] - 1s 12ms/step - loss: 0.1989 - acc: 0.9679 - val_loss: 0.3925 - val_acc: 0.8723\n",
      "Epoch 11/20\n",
      "49/49 [==============================] - 1s 11ms/step - loss: 0.1740 - acc: 0.9712 - val_loss: 0.3918 - val_acc: 0.8704\n",
      "Epoch 12/20\n",
      "49/49 [==============================] - 1s 11ms/step - loss: 0.1498 - acc: 0.9732 - val_loss: 0.3970 - val_acc: 0.8686\n",
      "Epoch 13/20\n",
      "49/49 [==============================] - 1s 11ms/step - loss: 0.1277 - acc: 0.9754 - val_loss: 0.3986 - val_acc: 0.8684\n",
      "Epoch 14/20\n",
      "49/49 [==============================] - 1s 11ms/step - loss: 0.1076 - acc: 0.9773 - val_loss: 0.4034 - val_acc: 0.8659\n",
      "Epoch 15/20\n",
      "49/49 [==============================] - 1s 11ms/step - loss: 0.0913 - acc: 0.9796 - val_loss: 0.4331 - val_acc: 0.8673\n",
      "Epoch 16/20\n",
      "49/49 [==============================] - 1s 11ms/step - loss: 0.0789 - acc: 0.9816 - val_loss: 0.4348 - val_acc: 0.8608\n",
      "Epoch 17/20\n",
      "49/49 [==============================] - 1s 11ms/step - loss: 0.0688 - acc: 0.9828 - val_loss: 0.4573 - val_acc: 0.8623\n",
      "Epoch 18/20\n",
      "49/49 [==============================] - 1s 11ms/step - loss: 0.0602 - acc: 0.9847 - val_loss: 0.4920 - val_acc: 0.8632\n",
      "Epoch 19/20\n",
      "49/49 [==============================] - 1s 11ms/step - loss: 0.0534 - acc: 0.9861 - val_loss: 0.5112 - val_acc: 0.8617\n",
      "Epoch 20/20\n",
      "49/49 [==============================] - 1s 11ms/step - loss: 0.0483 - acc: 0.9874 - val_loss: 0.5459 - val_acc: 0.8620\n"
     ]
    }
   ],
   "source": [
    "smaller_model_hist = smaller_model.fit(x_train, y_train,\n",
    "                                       epochs=20,\n",
    "                                       batch_size=512,\n",
    "                                       validation_data=(x_test, y_test))"
   ]
  },
  {
   "cell_type": "code",
   "execution_count": 7,
   "metadata": {},
   "outputs": [],
   "source": [
    "epochs = range(1, 21)\n",
    "original_val_loss = original_hist.history['val_loss']\n",
    "smaller_model_val_loss = smaller_model_hist.history['val_loss']"
   ]
  },
  {
   "cell_type": "code",
   "execution_count": 8,
   "metadata": {},
   "outputs": [
    {
     "data": {
      "image/png": "[encoded data removed]",
      "text/plain": [
       "<Figure size 432x288 with 1 Axes>"
      ]
     },
     "metadata": {
      "needs_background": "light"
     },
     "output_type": "display_data"
    }
   ],
   "source": [
    "import matplotlib.pyplot as plt\n",
    "\n",
    "# b+ is for \"blue cross\"\n",
    "plt.plot(epochs, original_val_loss, 'b+', label='Original model')\n",
    "# \"bo\" is for \"blue dot\"\n",
    "plt.plot(epochs, smaller_model_val_loss, 'bo', label='Smaller model')\n",
    "plt.xlabel('Epochs')\n",
    "plt.ylabel('Validation loss')\n",
    "plt.legend()\n",
    "\n",
    "plt.show()"
   ]
  },
  {
   "cell_type": "markdown",
   "metadata": {},
   "source": [
    "\n",
    "As you can see, the smaller network starts overfitting later than the reference one (after 6 epochs rather than 4) and its performance \n",
    "degrades much more slowly once it starts overfitting.\n",
    "\n",
    "Now, for kicks, let's add to this benchmark a network that has much more capacity, far more than the problem would warrant:"
   ]
  },
  {
   "cell_type": "code",
   "execution_count": 9,
   "metadata": {},
   "outputs": [],
   "source": [
    "bigger_model = models.Sequential()\n",
    "bigger_model.add(layers.Dense(512, activation='relu', input_shape=(10000,)))\n",
    "bigger_model.add(layers.Dense(512, activation='relu'))\n",
    "bigger_model.add(layers.Dense(1, activation='sigmoid'))\n",
    "\n",
    "bigger_model.compile(optimizer='rmsprop',\n",
    "                     loss='binary_crossentropy',\n",
    "                     metrics=['acc'])"
   ]
  },
  {
   "cell_type": "code",
   "execution_count": 10,
   "metadata": {},
   "outputs": [
    {
     "name": "stdout",
     "output_type": "stream",
     "text": [
      "Epoch 1/20\n",
      "49/49 [==============================] - 1s 27ms/step - loss: 0.4658 - acc: 0.7951 - val_loss: 0.3729 - val_acc: 0.8382\n",
      "Epoch 2/20\n",
      "49/49 [==============================] - 1s 15ms/step - loss: 0.2262 - acc: 0.9107 - val_loss: 0.3141 - val_acc: 0.8717\n",
      "Epoch 3/20\n",
      "49/49 [==============================] - 1s 15ms/step - loss: 0.1283 - acc: 0.9516 - val_loss: 0.3366 - val_acc: 0.8838\n",
      "Epoch 4/20\n",
      "49/49 [==============================] - 1s 15ms/step - loss: 0.0524 - acc: 0.9834 - val_loss: 0.4594 - val_acc: 0.8691\n",
      "Epoch 5/20\n",
      "49/49 [==============================] - 1s 15ms/step - loss: 0.0520 - acc: 0.9883 - val_loss: 0.5599 - val_acc: 0.8810\n",
      "Epoch 6/20\n",
      "49/49 [==============================] - 1s 15ms/step - loss: 0.0890 - acc: 0.9898 - val_loss: 0.4909 - val_acc: 0.8762\n",
      "Epoch 7/20\n",
      "49/49 [==============================] - 1s 15ms/step - loss: 9.9624e-04 - acc: 1.0000 - val_loss: 0.7158 - val_acc: 0.8778\n",
      "Epoch 8/20\n",
      "49/49 [==============================] - 1s 15ms/step - loss: 0.0992 - acc: 0.9926 - val_loss: 1.3153 - val_acc: 0.8292\n",
      "Epoch 9/20\n",
      "49/49 [==============================] - 1s 15ms/step - loss: 4.4161e-04 - acc: 0.9999 - val_loss: 0.8187 - val_acc: 0.8776\n",
      "Epoch 10/20\n",
      "49/49 [==============================] - 1s 15ms/step - loss: 3.3141e-05 - acc: 1.0000 - val_loss: 0.8700 - val_acc: 0.8770\n",
      "Epoch 11/20\n",
      "49/49 [==============================] - 1s 15ms/step - loss: 8.4907e-06 - acc: 1.0000 - val_loss: 1.0327 - val_acc: 0.8767\n",
      "Epoch 12/20\n",
      "49/49 [==============================] - 1s 15ms/step - loss: 1.1051e-06 - acc: 1.0000 - val_loss: 1.2118 - val_acc: 0.8750\n",
      "Epoch 13/20\n",
      "49/49 [==============================] - 1s 15ms/step - loss: 2.0431e-07 - acc: 1.0000 - val_loss: 1.3042 - val_acc: 0.8769\n",
      "Epoch 14/20\n",
      "49/49 [==============================] - 1s 15ms/step - loss: 4.9191e-08 - acc: 1.0000 - val_loss: 1.4084 - val_acc: 0.8765\n",
      "Epoch 15/20\n",
      "49/49 [==============================] - 1s 15ms/step - loss: 2.1629e-08 - acc: 1.0000 - val_loss: 1.4540 - val_acc: 0.8769\n",
      "Epoch 16/20\n",
      "49/49 [==============================] - 1s 15ms/step - loss: 1.3582e-08 - acc: 1.0000 - val_loss: 1.4835 - val_acc: 0.8769\n",
      "Epoch 17/20\n",
      "49/49 [==============================] - 1s 15ms/step - loss: 9.9538e-09 - acc: 1.0000 - val_loss: 1.5034 - val_acc: 0.8769\n",
      "Epoch 18/20\n",
      "49/49 [==============================] - 1s 15ms/step - loss: 7.8641e-09 - acc: 1.0000 - val_loss: 1.5223 - val_acc: 0.8766\n",
      "Epoch 19/20\n",
      "49/49 [==============================] - 1s 15ms/step - loss: 6.5245e-09 - acc: 1.0000 - val_loss: 1.5355 - val_acc: 0.8767\n",
      "Epoch 20/20\n",
      "49/49 [==============================] - 1s 15ms/step - loss: 5.5720e-09 - acc: 1.0000 - val_loss: 1.5484 - val_acc: 0.8766\n"
     ]
    }
   ],
   "source": [
    "bigger_model_hist = bigger_model.fit(x_train, y_train,\n",
    "                                     epochs=20,\n",
    "                                     batch_size=512,\n",
    "                                     validation_data=(x_test, y_test))"
   ]
  },
  {
   "cell_type": "markdown",
   "metadata": {},
   "source": [
    "Here's how the bigger network fares compared to the reference one. The dots are the validation loss values of the bigger network, and the \n",
    "crosses are the initial network."
   ]
  },
  {
   "cell_type": "code",
   "execution_count": 11,
   "metadata": {},
   "outputs": [
    {
     "data": {
      "image/png": "[encoded data removed]",
      "text/plain": [
       "<Figure size 432x288 with 1 Axes>"
      ]
     },
     "metadata": {
      "needs_background": "light"
     },
     "output_type": "display_data"
    }
   ],
   "source": [
    "bigger_model_val_loss = bigger_model_hist.history['val_loss']\n",
    "\n",
    "plt.plot(epochs, original_val_loss, 'b+', label='Original model')\n",
    "plt.plot(epochs, bigger_model_val_loss, 'bo', label='Bigger model')\n",
    "plt.xlabel('Epochs')\n",
    "plt.ylabel('Validation loss')\n",
    "plt.legend()\n",
    "\n",
    "plt.show()"
   ]
  },
  {
   "cell_type": "markdown",
   "metadata": {},
   "source": [
    "\n",
    "The bigger network starts overfitting almost right away, after just one epoch, and overfits much more severely. Its validation loss is also \n",
    "more noisy.\n",
    "\n",
    "Meanwhile, here are the training losses for our two networks:"
   ]
  },
  {
   "cell_type": "code",
   "execution_count": 12,
   "metadata": {},
   "outputs": [
    {
     "data": {
      "image/png": "[encoded data removed]",
      "text/plain": [
       "<Figure size 432x288 with 1 Axes>"
      ]
     },
     "metadata": {
      "needs_background": "light"
     },
     "output_type": "display_data"
    }
   ],
   "source": [
    "original_train_loss = original_hist.history['loss']\n",
    "bigger_model_train_loss = bigger_model_hist.history['loss']\n",
    "\n",
    "plt.plot(epochs, original_train_loss, 'b+', label='Original model')\n",
    "plt.plot(epochs, bigger_model_train_loss, 'bo', label='Bigger model')\n",
    "plt.xlabel('Epochs')\n",
    "plt.ylabel('Training loss')\n",
    "plt.legend()\n",
    "\n",
    "plt.show()"
   ]
  },
  {
   "cell_type": "markdown",
   "metadata": {},
   "source": [
    "As you can see, the bigger network gets its training loss near zero very quickly. The more capacity the network has, the quicker it will be \n",
    "able to model the training data (resulting in a low training loss), but the more susceptible it is to overfitting (resulting in a large \n",
    "difference between the training and validation loss)."
   ]
  },
  {
   "cell_type": "markdown",
   "metadata": {},
   "source": [
    "## Adding weight regularization\n",
    "\n",
    "\n",
    "You may be familiar with _Occam's Razor_ principle: given two explanations for something, the explanation most likely to be correct is the \n",
    "\"simplest\" one, the one that makes the least amount of assumptions. This also applies to the models learned by neural networks: given some \n",
    "training data and a network architecture, there are multiple sets of weights values (multiple _models_) that could explain the data, and \n",
    "simpler models are less likely to overfit than complex ones.\n",
    "\n",
    "A \"simple model\" in this context is a model where the distribution of parameter values has less entropy (or a model with fewer \n",
    "parameters altogether, as we saw in the section above). Thus a common way to mitigate overfitting is to put constraints on the complexity \n",
    "of a network by forcing its weights to only take small values, which makes the distribution of weight values more \"regular\". This is called \n",
    "\"weight regularization\", and it is done by adding to the loss function of the network a _cost_ associated with having large weights. This \n",
    "cost comes in two flavors:\n",
    "\n",
    "* L1 regularization, where the cost added is proportional to the _absolute value of the weights coefficients_ (i.e. to what is called the \n",
    "\"L1 norm\" of the weights).\n",
    "* L2 regularization, where the cost added is proportional to the _square of the value of the weights coefficients_ (i.e. to what is called \n",
    "the \"L2 norm\" of the weights). L2 regularization is also called _weight decay_ in the context of neural networks. Don't let the different \n",
    "name confuse you: weight decay is mathematically the exact same as L2 regularization.\n",
    "\n",
    "In Keras, weight regularization is added by passing _weight regularizer instances_ to layers as keyword arguments. Let's add L2 weight \n",
    "regularization to our movie review classification network:"
   ]
  },
  {
   "cell_type": "code",
   "execution_count": 13,
   "metadata": {},
   "outputs": [],
   "source": [
    "from keras import regularizers\n",
    "\n",
    "l2_model = models.Sequential()\n",
    "l2_model.add(layers.Dense(16, kernel_regularizer=regularizers.l2(0.001),\n",
    "                          activation='relu', input_shape=(10000,)))\n",
    "l2_model.add(layers.Dense(16, kernel_regularizer=regularizers.l2(0.001),\n",
    "                          activation='relu'))\n",
    "l2_model.add(layers.Dense(1, activation='sigmoid'))"
   ]
  },
  {
   "cell_type": "code",
   "execution_count": 14,
   "metadata": {},
   "outputs": [],
   "source": [
    "l2_model.compile(optimizer='rmsprop',\n",
    "                 loss='binary_crossentropy',\n",
    "                 metrics=['acc'])"
   ]
  },
  {
   "cell_type": "markdown",
   "metadata": {},
   "source": [
    "`l2(0.001)` means that every coefficient in the weight matrix of the layer will add `0.001 * weight_coefficient_value` to the total loss of \n",
    "the network. Note that because this penalty is _only added at training time_, the loss for this network will be much higher at training \n",
    "than at test time.\n",
    "\n",
    "Here's the impact of our L2 regularization penalty:"
   ]
  },
  {
   "cell_type": "code",
   "execution_count": 15,
   "metadata": {},
   "outputs": [
    {
     "name": "stdout",
     "output_type": "stream",
     "text": [
      "Epoch 1/20\n",
      "49/49 [==============================] - 1s 24ms/step - loss: 0.4922 - acc: 0.8286 - val_loss: 0.3775 - val_acc: 0.8836\n",
      "Epoch 2/20\n",
      "49/49 [==============================] - 1s 12ms/step - loss: 0.3114 - acc: 0.9076 - val_loss: 0.3310 - val_acc: 0.8893\n",
      "Epoch 3/20\n",
      "49/49 [==============================] - 1s 11ms/step - loss: 0.2654 - acc: 0.9241 - val_loss: 0.3683 - val_acc: 0.8682\n",
      "Epoch 4/20\n",
      "49/49 [==============================] - 1s 11ms/step - loss: 0.2465 - acc: 0.9277 - val_loss: 0.3317 - val_acc: 0.8882\n",
      "Epoch 5/20\n",
      "49/49 [==============================] - 1s 11ms/step - loss: 0.2332 - acc: 0.9345 - val_loss: 0.3433 - val_acc: 0.8824\n",
      "Epoch 6/20\n",
      "49/49 [==============================] - 1s 11ms/step - loss: 0.2252 - acc: 0.9375 - val_loss: 0.3644 - val_acc: 0.8746\n",
      "Epoch 7/20\n",
      "49/49 [==============================] - 1s 11ms/step - loss: 0.2177 - acc: 0.9410 - val_loss: 0.3791 - val_acc: 0.8716\n",
      "Epoch 8/20\n",
      "49/49 [==============================] - 1s 11ms/step - loss: 0.2154 - acc: 0.9416 - val_loss: 0.3673 - val_acc: 0.8768\n",
      "Epoch 9/20\n",
      "49/49 [==============================] - 1s 12ms/step - loss: 0.2082 - acc: 0.9445 - val_loss: 0.3699 - val_acc: 0.8764\n",
      "Epoch 10/20\n",
      "49/49 [==============================] - 1s 11ms/step - loss: 0.2049 - acc: 0.9442 - val_loss: 0.3936 - val_acc: 0.8699\n",
      "Epoch 11/20\n",
      "49/49 [==============================] - 1s 11ms/step - loss: 0.2027 - acc: 0.9460 - val_loss: 0.3906 - val_acc: 0.8719\n",
      "Epoch 12/20\n",
      "49/49 [==============================] - 1s 12ms/step - loss: 0.2014 - acc: 0.9471 - val_loss: 0.3984 - val_acc: 0.8709\n",
      "Epoch 13/20\n",
      "49/49 [==============================] - 1s 11ms/step - loss: 0.1964 - acc: 0.9487 - val_loss: 0.4049 - val_acc: 0.8691\n",
      "Epoch 14/20\n",
      "49/49 [==============================] - 1s 11ms/step - loss: 0.1961 - acc: 0.9494 - val_loss: 0.4174 - val_acc: 0.8659\n",
      "Epoch 15/20\n",
      "49/49 [==============================] - 1s 11ms/step - loss: 0.1933 - acc: 0.9492 - val_loss: 0.3999 - val_acc: 0.8706\n",
      "Epoch 16/20\n",
      "49/49 [==============================] - 1s 11ms/step - loss: 0.1887 - acc: 0.9524 - val_loss: 0.4068 - val_acc: 0.8705\n",
      "Epoch 17/20\n",
      "49/49 [==============================] - 1s 11ms/step - loss: 0.1907 - acc: 0.9496 - val_loss: 0.4877 - val_acc: 0.8519\n",
      "Epoch 18/20\n",
      "49/49 [==============================] - 1s 11ms/step - loss: 0.1867 - acc: 0.9526 - val_loss: 0.4453 - val_acc: 0.8621\n",
      "Epoch 19/20\n",
      "49/49 [==============================] - 1s 12ms/step - loss: 0.1884 - acc: 0.9518 - val_loss: 0.4380 - val_acc: 0.8641\n",
      "Epoch 20/20\n",
      "49/49 [==============================] - 1s 11ms/step - loss: 0.1838 - acc: 0.9519 - val_loss: 0.4945 - val_acc: 0.8491\n"
     ]
    }
   ],
   "source": [
    "l2_model_hist = l2_model.fit(x_train, y_train,\n",
    "                             epochs=20,\n",
    "                             batch_size=512,\n",
    "                             validation_data=(x_test, y_test))"
   ]
  },
  {
   "cell_type": "code",
   "execution_count": 16,
   "metadata": {},
   "outputs": [
    {
     "data": {
      "image/png": "[encoded data removed]",
      "text/plain": [
       "<Figure size 432x288 with 1 Axes>"
      ]
     },
     "metadata": {
      "needs_background": "light"
     },
     "output_type": "display_data"
    }
   ],
   "source": [
    "l2_model_val_loss = l2_model_hist.history['val_loss']\n",
    "\n",
    "plt.plot(epochs, original_val_loss, 'b+', label='Original model')\n",
    "plt.plot(epochs, l2_model_val_loss, 'bo', label='L2-regularized model')\n",
    "plt.xlabel('Epochs')\n",
    "plt.ylabel('Validation loss')\n",
    "plt.legend()\n",
    "\n",
    "plt.show()"
   ]
  },
  {
   "cell_type": "markdown",
   "metadata": {},
   "source": [
    "\n",
    "\n",
    "As you can see, the model with L2 regularization (dots) has become much more resistant to overfitting than the reference model (crosses), \n",
    "even though both models have the same number of parameters.\n",
    "\n",
    "As alternatives to L2 regularization, you could use one of the following Keras weight regularizers:"
   ]
  },
  {
   "cell_type": "code",
   "execution_count": 17,
   "metadata": {},
   "outputs": [
    {
     "data": {
      "text/plain": [
       "<tensorflow.python.keras.regularizers.L1L2 at 0x7ff5ae53da50>"
      ]
     },
     "execution_count": 17,
     "metadata": {},
     "output_type": "execute_result"
    }
   ],
   "source": [
    "from keras import regularizers\n",
    "\n",
    "# L1 regularization\n",
    "regularizers.l1(0.001)\n",
    "\n",
    "# L1 and L2 regularization at the same time\n",
    "regularizers.l1_l2(l1=0.001, l2=0.001)"
   ]
  },
  {
   "cell_type": "markdown",
   "metadata": {},
   "source": [
    "## Adding dropout\n",
    "\n",
    "\n",
    "Dropout is one of the most effective and most commonly used regularization techniques for neural networks, developed by Hinton and his \n",
    "students at the University of Toronto. Dropout, applied to a layer, consists of randomly \"dropping out\" (i.e. setting to zero) a number of \n",
    "output features of the layer during training. Let's say a given layer would normally have returned a vector `[0.2, 0.5, 1.3, 0.8, 1.1]` for a \n",
    "given input sample during training; after applying dropout, this vector will have a few zero entries distributed at random, e.g. `[0, 0.5, \n",
    "1.3, 0, 1.1]`. The \"dropout rate\" is the fraction of the features that are being zeroed-out; it is usually set between 0.2 and 0.5. At test \n",
    "time, no units are dropped out, and instead the layer's output values are scaled down by a factor equal to the dropout rate, so as to \n",
    "balance for the fact that more units are active than at training time.\n",
    "\n",
    "Consider a Numpy matrix containing the output of a layer, `layer_output`, of shape `(batch_size, features)`. At training time, we would be \n",
    "zero-ing out at random a fraction of the values in the matrix:"
   ]
  },
  {
   "cell_type": "code",
   "execution_count": 19,
   "metadata": {},
   "outputs": [],
   "source": [
    "# At training time: we drop out 50% of the units in the output. It is not code but explaination. \n",
    "# -layer_output *= np.randint(0, high=2, size=layer_output.shape)"
   ]
  },
  {
   "cell_type": "markdown",
   "metadata": {},
   "source": [
    "\n",
    "At test time, we would be scaling the output down by the dropout rate. Here we scale by 0.5 (because we were previous dropping half the \n",
    "units):"
   ]
  },
  {
   "cell_type": "code",
   "execution_count": 21,
   "metadata": {},
   "outputs": [],
   "source": [
    "# At test time, it is not code but explaination. \n",
    "# -layer_output *= 0.5"
   ]
  },
  {
   "cell_type": "markdown",
   "metadata": {},
   "source": [
    "\n",
    "Note that this process can be implemented by doing both operations at training time and leaving the output unchanged at test time, which is \n",
    "often the way it is implemented in practice:"
   ]
  },
  {
   "cell_type": "code",
   "execution_count": 23,
   "metadata": {},
   "outputs": [],
   "source": [
    "# At training time, it is not code but explaination. \n",
    "# -layer_output *= np.randint(0, high=2, size=layer_output.shape)\n",
    "# Note that we are scaling *up* rather scaling *down* in this case\n",
    "# -layer_output /= 0.5"
   ]
  },
  {
   "cell_type": "markdown",
   "metadata": {},
   "source": [
    "\n",
    "This technique may seem strange and arbitrary. Why would this help reduce overfitting? Geoff Hinton has said that he was inspired, among \n",
    "other things, by a fraud prevention mechanism used by banks -- in his own words: _\"I went to my bank. The tellers kept changing and I asked \n",
    "one of them why. He said he didn’t know but they got moved around a lot. I figured it must be because it would require cooperation \n",
    "between employees to successfully defraud the bank. This made me realize that randomly removing a different subset of neurons on each \n",
    "example would prevent conspiracies and thus reduce overfitting\"_.\n",
    "\n",
    "The core idea is that introducing noise in the output values of a layer can break up happenstance patterns that are not significant (what \n",
    "Hinton refers to as \"conspiracies\"), which the network would start memorizing if no noise was present. \n",
    "\n",
    "In Keras you can introduce dropout in a network via the `Dropout` layer, which gets applied to the output of layer right before it, e.g.:"
   ]
  },
  {
   "cell_type": "code",
   "execution_count": 25,
   "metadata": {},
   "outputs": [],
   "source": [
    "# It is not code but explaination. \n",
    "# -model.add(layers.Dropout(0.5))"
   ]
  },
  {
   "cell_type": "markdown",
   "metadata": {},
   "source": [
    "Let's add two `Dropout` layers in our IMDB network to see how well they do at reducing overfitting:"
   ]
  },
  {
   "cell_type": "code",
   "execution_count": 26,
   "metadata": {},
   "outputs": [],
   "source": [
    "dpt_model = models.Sequential()\n",
    "dpt_model.add(layers.Dense(16, activation='relu', input_shape=(10000,)))\n",
    "dpt_model.add(layers.Dropout(0.5))\n",
    "dpt_model.add(layers.Dense(16, activation='relu'))\n",
    "dpt_model.add(layers.Dropout(0.5))\n",
    "dpt_model.add(layers.Dense(1, activation='sigmoid'))\n",
    "\n",
    "dpt_model.compile(optimizer='rmsprop',\n",
    "                  loss='binary_crossentropy',\n",
    "                  metrics=['acc'])"
   ]
  },
  {
   "cell_type": "code",
   "execution_count": 27,
   "metadata": {},
   "outputs": [
    {
     "name": "stdout",
     "output_type": "stream",
     "text": [
      "Epoch 1/20\n",
      "49/49 [==============================] - 1s 23ms/step - loss: 0.5948 - acc: 0.6834 - val_loss: 0.4521 - val_acc: 0.8616\n",
      "Epoch 2/20\n",
      "49/49 [==============================] - 1s 11ms/step - loss: 0.4412 - acc: 0.8197 - val_loss: 0.3435 - val_acc: 0.8832\n",
      "Epoch 3/20\n",
      "49/49 [==============================] - 1s 11ms/step - loss: 0.3508 - acc: 0.8743 - val_loss: 0.2886 - val_acc: 0.8882\n",
      "Epoch 4/20\n",
      "49/49 [==============================] - 1s 11ms/step - loss: 0.2962 - acc: 0.9010 - val_loss: 0.2954 - val_acc: 0.8847\n",
      "Epoch 5/20\n",
      "49/49 [==============================] - 1s 12ms/step - loss: 0.2553 - acc: 0.9153 - val_loss: 0.2812 - val_acc: 0.8865\n",
      "Epoch 6/20\n",
      "49/49 [==============================] - 1s 11ms/step - loss: 0.2275 - acc: 0.9260 - val_loss: 0.3085 - val_acc: 0.8838\n",
      "Epoch 7/20\n",
      "49/49 [==============================] - 1s 11ms/step - loss: 0.1967 - acc: 0.9361 - val_loss: 0.3181 - val_acc: 0.8803\n",
      "Epoch 8/20\n",
      "49/49 [==============================] - 1s 11ms/step - loss: 0.1802 - acc: 0.9426 - val_loss: 0.3263 - val_acc: 0.8824\n",
      "Epoch 9/20\n",
      "49/49 [==============================] - 1s 11ms/step - loss: 0.1676 - acc: 0.9465 - val_loss: 0.3452 - val_acc: 0.8812\n",
      "Epoch 10/20\n",
      "49/49 [==============================] - 1s 11ms/step - loss: 0.1547 - acc: 0.9494 - val_loss: 0.3746 - val_acc: 0.8786\n",
      "Epoch 11/20\n",
      "49/49 [==============================] - 1s 11ms/step - loss: 0.1457 - acc: 0.9510 - val_loss: 0.3920 - val_acc: 0.8776\n",
      "Epoch 12/20\n",
      "49/49 [==============================] - 1s 12ms/step - loss: 0.1359 - acc: 0.9576 - val_loss: 0.4342 - val_acc: 0.8796\n",
      "Epoch 13/20\n",
      "49/49 [==============================] - 1s 11ms/step - loss: 0.1252 - acc: 0.9588 - val_loss: 0.4658 - val_acc: 0.8772\n",
      "Epoch 14/20\n",
      "49/49 [==============================] - 1s 12ms/step - loss: 0.1192 - acc: 0.9619 - val_loss: 0.4764 - val_acc: 0.8751\n",
      "Epoch 15/20\n",
      "49/49 [==============================] - 1s 11ms/step - loss: 0.1144 - acc: 0.9640 - val_loss: 0.5096 - val_acc: 0.8747\n",
      "Epoch 16/20\n",
      "49/49 [==============================] - 1s 11ms/step - loss: 0.1144 - acc: 0.9641 - val_loss: 0.5335 - val_acc: 0.8742\n",
      "Epoch 17/20\n",
      "49/49 [==============================] - 1s 11ms/step - loss: 0.1102 - acc: 0.9652 - val_loss: 0.5672 - val_acc: 0.8735\n",
      "Epoch 18/20\n",
      "49/49 [==============================] - 1s 11ms/step - loss: 0.1067 - acc: 0.9676 - val_loss: 0.5534 - val_acc: 0.8718\n",
      "Epoch 19/20\n",
      "49/49 [==============================] - 1s 11ms/step - loss: 0.1039 - acc: 0.9678 - val_loss: 0.5992 - val_acc: 0.8722\n",
      "Epoch 20/20\n",
      "49/49 [==============================] - 1s 11ms/step - loss: 0.1037 - acc: 0.9696 - val_loss: 0.6035 - val_acc: 0.8702\n"
     ]
    }
   ],
   "source": [
    "dpt_model_hist = dpt_model.fit(x_train, y_train,\n",
    "                               epochs=20,\n",
    "                               batch_size=512,\n",
    "                               validation_data=(x_test, y_test))"
   ]
  },
  {
   "cell_type": "markdown",
   "metadata": {},
   "source": [
    "Let's plot the results:"
   ]
  },
  {
   "cell_type": "code",
   "execution_count": 28,
   "metadata": {},
   "outputs": [
    {
     "data": {
      "image/png": "[encoded data removed]",
      "text/plain": [
       "<Figure size 432x288 with 1 Axes>"
      ]
     },
     "metadata": {
      "needs_background": "light"
     },
     "output_type": "display_data"
    }
   ],
   "source": [
    "dpt_model_val_loss = dpt_model_hist.history['val_loss']\n",
    "\n",
    "plt.plot(epochs, original_val_loss, 'b+', label='Original model')\n",
    "plt.plot(epochs, dpt_model_val_loss, 'bo', label='Dropout-regularized model')\n",
    "plt.xlabel('Epochs')\n",
    "plt.ylabel('Validation loss')\n",
    "plt.legend()\n",
    "\n",
    "plt.show()"
   ]
  },
  {
   "cell_type": "markdown",
   "metadata": {},
   "source": [
    "\n",
    "Again, a clear improvement over the reference network.\n",
    "\n",
    "To recap: here the most common ways to prevent overfitting in neural networks:\n",
    "\n",
    "* Getting more training data.\n",
    "* Reducing the capacity of the network.\n",
    "* Adding weight regularization.\n",
    "* Adding dropout."
   ]
  },
  {
   "cell_type": "code",
   "execution_count": 29,
   "metadata": {},
   "outputs": [],
   "source": [
    "# Release the GPU memory\n",
    "from numba import cuda\n",
    "\n",
    "cuda.select_device(0)\n",
    "cuda.close()"
   ]
  }
 ],
 "metadata": {
  "kernelspec": {
   "display_name": "Python 3",
   "language": "python",
   "name": "python3"
  },
  "language_info": {
   "codemirror_mode": {
    "name": "ipython",
    "version": 3
   },
   "file_extension": ".py",
   "mimetype": "text/x-python",
   "name": "python",
   "nbconvert_exporter": "python",
   "pygments_lexer": "ipython3",
   "version": "3.7.7"
  }
 },
 "nbformat": 4,
 "nbformat_minor": 2
}
