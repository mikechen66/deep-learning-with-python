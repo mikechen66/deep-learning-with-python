{
 "cells": [
  {
   "cell_type": "code",
   "execution_count": 1,
   "metadata": {},
   "outputs": [
    {
     "data": {
      "text/plain": [
       "'2.4.3'"
      ]
     },
     "execution_count": 1,
     "metadata": {},
     "output_type": "execute_result"
    }
   ],
   "source": [
    "import keras\n",
    "keras.__version__"
   ]
  },
  {
   "cell_type": "markdown",
   "metadata": {},
   "source": [
    "# Introduction to generative adversarial networks\n",
    "\n",
    "This notebook contains the second code sample found in Chapter 8, Section 5 of [Deep Learning with Python](https://www.manning.com/books/deep-learning-with-python?a_aid=keras&a_bid=76564dff). Note that the original text features far more content, in particular further explanations and figures: in this notebook, you will only find source code and related comments.\n",
    "\n",
    "---\n",
    "[...]"
   ]
  },
  {
   "cell_type": "markdown",
   "metadata": {},
   "source": [
    "## A schematic GAN implementation\n",
    "\n",
    "\n",
    "In what follows, we explain how to implement a GAN in Keras, in its barest form -- since GANs are quite advanced, diving deeply into the \n",
    "technical details would be out of scope for us. Our specific implementation will be a deep convolutional GAN, or DCGAN: a GAN where the \n",
    "generator and discriminator are deep convnets. In particular, it leverages a `Conv2DTranspose` layer for image upsampling in the generator.\n",
    "\n",
    "We will train our GAN on images from CIFAR10, a dataset of 50,000 32x32 RGB images belong to 10 classes (5,000 images per class). To make \n",
    "things even easier, we will only use images belonging to the class \"frog\".\n",
    "\n",
    "Schematically, our GAN looks like this:\n",
    "\n",
    "* A `generator` network maps vectors of shape `(latent_dim,)` to images of shape `(32, 32, 3)`.\n",
    "* A `discriminator` network maps images of shape (32, 32, 3) to a binary score estimating the probability that the image is real.\n",
    "* A `gan` network chains the generator and the discriminator together: `gan(x) = discriminator(generator(x))`. Thus this `gan` network maps \n",
    "latent space vectors to the discriminator's assessment of the realism of these latent vectors as decoded by the generator.\n",
    "* We train the discriminator using examples of real and fake images along with \"real\"/\"fake\" labels, as we would train any regular image \n",
    "classification model.\n",
    "* To train the generator, we use the gradients of the generator's weights with regard to the loss of the `gan` model. This means that, at \n",
    "every step, we move the weights of the generator in a direction that will make the discriminator more likely to classify as \"real\" the \n",
    "images decoded by the generator. I.e. we train the generator to fool the discriminator."
   ]
  },
  {
   "cell_type": "markdown",
   "metadata": {},
   "source": [
    "## A bag of tricks\n",
    "\n",
    "\n",
    "Training GANs and tuning GAN implementations is notoriously difficult. There are a number of known \"tricks\" that one should keep in mind. \n",
    "Like most things in deep learning, it is more alchemy than science: these tricks are really just heuristics, not theory-backed guidelines. \n",
    "They are backed by some level of intuitive understanding of the phenomenon at hand, and they are known to work well empirically, albeit not \n",
    "necessarily in every context.\n",
    "\n",
    "Here are a few of the tricks that we leverage in our own implementation of a GAN generator and discriminator below. It is not an exhaustive \n",
    "list of GAN-related tricks; you will find many more across the GAN literature.\n",
    "\n",
    "* We use `tanh` as the last activation in the generator, instead of `sigmoid`, which would be more commonly found in other types of models.\n",
    "* We sample points from the latent space using a _normal distribution_ (Gaussian distribution), not a uniform distribution.\n",
    "* Stochasticity is good to induce robustness. Since GAN training results in a dynamic equilibrium, GANs are likely to get \"stuck\" in all sorts of ways. \n",
    "Introducing randomness during training helps prevent this. We introduce randomness in two ways: 1) we use dropout in the discriminator, 2) \n",
    "we add some random noise to the labels for the discriminator.\n",
    "* Sparse gradients can hinder GAN training. In deep learning, sparsity is often a desirable property, but not in GANs. There are two things \n",
    "that can induce gradient sparsity: 1) max pooling operations, 2) ReLU activations. Instead of max pooling, we recommend using strided \n",
    "convolutions for downsampling, and we recommend using a `LeakyReLU` layer instead of a ReLU activation. It is similar to ReLU but it \n",
    "relaxes sparsity constraints by allowing small negative activation values.\n",
    "* In generated images, it is common to see \"checkerboard artifacts\" caused by unequal coverage of the pixel space in the generator. To fix \n",
    "this, we use a kernel size that is divisible by the stride size, whenever we use a strided `Conv2DTranpose` or `Conv2D` in both the \n",
    "generator and discriminator."
   ]
  },
  {
   "cell_type": "code",
   "execution_count": 2,
   "metadata": {},
   "outputs": [],
   "source": [
    "import tensorflow as tf \n",
    "\n",
    "# Set up the GPU growth to avoid a sudden stop of the runtime with the reminding \n",
    "# message: Could not create cuDNN handle.\n",
    "gpus = tf.config.experimental.list_physical_devices('GPU')\n",
    "for gpu in gpus:\n",
    "    tf.config.experimental.set_memory_growth(gpu, True)"
   ]
  },
  {
   "cell_type": "markdown",
   "metadata": {},
   "source": [
    "## The generator\n",
    "\n",
    "\n",
    "First, we develop a `generator` model, which turns a vector (from the latent space -- during training it will sampled at random) into a \n",
    "candidate image. One of the many issues that commonly arise with GANs is that the generator gets stuck with generated images that look like \n",
    "noise. A possible solution is to use dropout on both the discriminator and generator."
   ]
  },
  {
   "cell_type": "code",
   "execution_count": 3,
   "metadata": {},
   "outputs": [
    {
     "name": "stdout",
     "output_type": "stream",
     "text": [
      "Model: \"functional_1\"\n",
      "_________________________________________________________________\n",
      "Layer (type)                 Output Shape              Param #   \n",
      "=================================================================\n",
      "input_1 (InputLayer)         [(None, 32)]              0         \n",
      "_________________________________________________________________\n",
      "dense (Dense)                (None, 32768)             1081344   \n",
      "_________________________________________________________________\n",
      "leaky_re_lu (LeakyReLU)      (None, 32768)             0         \n",
      "_________________________________________________________________\n",
      "reshape (Reshape)            (None, 16, 16, 128)       0         \n",
      "_________________________________________________________________\n",
      "conv2d (Conv2D)              (None, 16, 16, 256)       819456    \n",
      "_________________________________________________________________\n",
      "leaky_re_lu_1 (LeakyReLU)    (None, 16, 16, 256)       0         \n",
      "_________________________________________________________________\n",
      "conv2d_transpose (Conv2DTran (None, 32, 32, 256)       1048832   \n",
      "_________________________________________________________________\n",
      "leaky_re_lu_2 (LeakyReLU)    (None, 32, 32, 256)       0         \n",
      "_________________________________________________________________\n",
      "conv2d_1 (Conv2D)            (None, 32, 32, 256)       1638656   \n",
      "_________________________________________________________________\n",
      "leaky_re_lu_3 (LeakyReLU)    (None, 32, 32, 256)       0         \n",
      "_________________________________________________________________\n",
      "conv2d_2 (Conv2D)            (None, 32, 32, 256)       1638656   \n",
      "_________________________________________________________________\n",
      "leaky_re_lu_4 (LeakyReLU)    (None, 32, 32, 256)       0         \n",
      "_________________________________________________________________\n",
      "conv2d_3 (Conv2D)            (None, 32, 32, 3)         37635     \n",
      "=================================================================\n",
      "Total params: 6,264,579\n",
      "Trainable params: 6,264,579\n",
      "Non-trainable params: 0\n",
      "_________________________________________________________________\n"
     ]
    }
   ],
   "source": [
    "import keras\n",
    "from keras import layers\n",
    "import numpy as np\n",
    "\n",
    "latent_dim = 32\n",
    "height = 32\n",
    "width = 32\n",
    "channels = 3\n",
    "\n",
    "generator_input = keras.Input(shape=(latent_dim,))\n",
    "\n",
    "# First, transform the input into a 16x16 128-channels feature map\n",
    "x = layers.Dense(128 * 16 * 16)(generator_input)\n",
    "x = layers.LeakyReLU()(x)\n",
    "x = layers.Reshape((16, 16, 128))(x)\n",
    "\n",
    "# Then, add a convolution layer\n",
    "x = layers.Conv2D(256, 5, padding='same')(x)\n",
    "x = layers.LeakyReLU()(x)\n",
    "\n",
    "# Upsample to 32x32\n",
    "x = layers.Conv2DTranspose(256, 4, strides=2, padding='same')(x)\n",
    "x = layers.LeakyReLU()(x)\n",
    "\n",
    "# Few more conv layers\n",
    "x = layers.Conv2D(256, 5, padding='same')(x)\n",
    "x = layers.LeakyReLU()(x)\n",
    "x = layers.Conv2D(256, 5, padding='same')(x)\n",
    "x = layers.LeakyReLU()(x)\n",
    "\n",
    "# Produce a 32x32 1-channel feature map\n",
    "x = layers.Conv2D(channels, 7, activation='tanh', padding='same')(x)\n",
    "generator = keras.models.Model(generator_input, x)\n",
    "generator.summary()"
   ]
  },
  {
   "cell_type": "markdown",
   "metadata": {},
   "source": [
    "## The discriminator\n",
    "\n",
    "\n",
    "Then, we develop a `discriminator` model, that takes as input a candidate image (real or synthetic) and classifies it into one of two \n",
    "classes, either \"generated image\" or \"real image that comes from the training set\"."
   ]
  },
  {
   "cell_type": "code",
   "execution_count": 4,
   "metadata": {},
   "outputs": [
    {
     "name": "stdout",
     "output_type": "stream",
     "text": [
      "Model: \"functional_3\"\n",
      "_________________________________________________________________\n",
      "Layer (type)                 Output Shape              Param #   \n",
      "=================================================================\n",
      "input_2 (InputLayer)         [(None, 32, 32, 3)]       0         \n",
      "_________________________________________________________________\n",
      "conv2d_4 (Conv2D)            (None, 30, 30, 128)       3584      \n",
      "_________________________________________________________________\n",
      "leaky_re_lu_5 (LeakyReLU)    (None, 30, 30, 128)       0         \n",
      "_________________________________________________________________\n",
      "conv2d_5 (Conv2D)            (None, 14, 14, 128)       262272    \n",
      "_________________________________________________________________\n",
      "leaky_re_lu_6 (LeakyReLU)    (None, 14, 14, 128)       0         \n",
      "_________________________________________________________________\n",
      "conv2d_6 (Conv2D)            (None, 6, 6, 128)         262272    \n",
      "_________________________________________________________________\n",
      "leaky_re_lu_7 (LeakyReLU)    (None, 6, 6, 128)         0         \n",
      "_________________________________________________________________\n",
      "conv2d_7 (Conv2D)            (None, 2, 2, 128)         262272    \n",
      "_________________________________________________________________\n",
      "leaky_re_lu_8 (LeakyReLU)    (None, 2, 2, 128)         0         \n",
      "_________________________________________________________________\n",
      "flatten (Flatten)            (None, 512)               0         \n",
      "_________________________________________________________________\n",
      "dropout (Dropout)            (None, 512)               0         \n",
      "_________________________________________________________________\n",
      "dense_1 (Dense)              (None, 1)                 513       \n",
      "=================================================================\n",
      "Total params: 790,913\n",
      "Trainable params: 790,913\n",
      "Non-trainable params: 0\n",
      "_________________________________________________________________\n"
     ]
    }
   ],
   "source": [
    "discriminator_input = layers.Input(shape=(height, width, channels))\n",
    "x = layers.Conv2D(128, 3)(discriminator_input)\n",
    "x = layers.LeakyReLU()(x)\n",
    "x = layers.Conv2D(128, 4, strides=2)(x)\n",
    "x = layers.LeakyReLU()(x)\n",
    "x = layers.Conv2D(128, 4, strides=2)(x)\n",
    "x = layers.LeakyReLU()(x)\n",
    "x = layers.Conv2D(128, 4, strides=2)(x)\n",
    "x = layers.LeakyReLU()(x)\n",
    "x = layers.Flatten()(x)\n",
    "\n",
    "# One dropout layer - important trick!\n",
    "x = layers.Dropout(0.4)(x)\n",
    "\n",
    "# Classification layer\n",
    "x = layers.Dense(1, activation='sigmoid')(x)\n",
    "\n",
    "discriminator = keras.models.Model(discriminator_input, x)\n",
    "discriminator.summary()\n",
    "\n",
    "# To stabilize training, we use learning rate decay\n",
    "# and gradient clipping (by value) in the optimizer.\n",
    "discriminator_optimizer = keras.optimizers.RMSprop(lr=0.0008, clipvalue=1.0, decay=1e-8)\n",
    "discriminator.compile(optimizer=discriminator_optimizer, loss='binary_crossentropy')"
   ]
  },
  {
   "cell_type": "markdown",
   "metadata": {},
   "source": [
    "## The adversarial network\n",
    "\n",
    "Finally, we setup the GAN, which chains the generator and the discriminator. This is the model that, when trained, will move the generator \n",
    "in a direction that improves its ability to fool the discriminator. This model turns latent space points into a classification decision, \n",
    "\"fake\" or \"real\", and it is meant to be trained with labels that are always \"these are real images\". So training `gan` will updates the \n",
    "weights of `generator` in a way that makes `discriminator` more likely to predict \"real\" when looking at fake images. Very importantly, we \n",
    "set the discriminator to be frozen during training (non-trainable): its weights will not be updated when training `gan`. If the \n",
    "discriminator weights could be updated during this process, then we would be training the discriminator to always predict \"real\", which is \n",
    "not what we want!"
   ]
  },
  {
   "cell_type": "code",
   "execution_count": 5,
   "metadata": {},
   "outputs": [],
   "source": [
    "# Set discriminator weights to non-trainable\n",
    "# (will only apply to the `gan` model)\n",
    "discriminator.trainable = False\n",
    "\n",
    "gan_input = keras.Input(shape=(latent_dim,))\n",
    "gan_output = discriminator(generator(gan_input))\n",
    "gan = keras.models.Model(gan_input, gan_output)\n",
    "\n",
    "gan_optimizer = keras.optimizers.RMSprop(lr=0.0004, clipvalue=1.0, decay=1e-8)\n",
    "gan.compile(optimizer=gan_optimizer, loss='binary_crossentropy')"
   ]
  },
  {
   "cell_type": "markdown",
   "metadata": {},
   "source": [
    "## How to train your DCGAN\n",
    "\n",
    "Now we can start training. To recapitulate, this is schematically what the training loop looks like:\n",
    "\n",
    "```\n",
    "for each epoch:\n",
    "    * Draw random points in the latent space (random noise).\n",
    "    * Generate images with `generator` using this random noise.\n",
    "    * Mix the generated images with real ones.\n",
    "    * Train `discriminator` using these mixed images, with corresponding targets, either \"real\" (for the real images) or \"fake\" (for the generated images).\n",
    "    * Draw new random points in the latent space.\n",
    "    * Train `gan` using these random vectors, with targets that all say \"these are real images\". This will update the weights of the generator (only, since discriminator is frozen inside `gan`) to move them towards getting the discriminator to predict \"these are real images\" for generated images, i.e. this trains the generator to fool the discriminator.\n",
    "```\n",
    "\n",
    "Let's implement it:"
   ]
  },
  {
   "cell_type": "code",
   "execution_count": 6,
   "metadata": {},
   "outputs": [
    {
     "name": "stdout",
     "output_type": "stream",
     "text": [
      "discriminator loss at step 0: 0.6767160892486572\n",
      "adversarial loss at step 0: 0.7261629104614258\n",
      "discriminator loss at step 100: 0.6523160338401794\n",
      "adversarial loss at step 100: 2.338672399520874\n",
      "discriminator loss at step 200: 0.6913159489631653\n",
      "adversarial loss at step 200: 0.7459465265274048\n",
      "discriminator loss at step 300: 0.8092070817947388\n",
      "adversarial loss at step 300: 0.7080307006835938\n",
      "discriminator loss at step 400: 0.6972252130508423\n",
      "adversarial loss at step 400: 0.7229960560798645\n",
      "discriminator loss at step 500: 0.6989760994911194\n",
      "adversarial loss at step 500: 0.7527543306350708\n",
      "discriminator loss at step 600: 0.6901968717575073\n",
      "adversarial loss at step 600: 0.7633711695671082\n",
      "discriminator loss at step 700: 0.6622081995010376\n",
      "adversarial loss at step 700: 0.7783141136169434\n",
      "discriminator loss at step 800: 0.68089759349823\n",
      "adversarial loss at step 800: 0.7590893507003784\n",
      "discriminator loss at step 900: 0.6818079352378845\n",
      "adversarial loss at step 900: 0.7869950532913208\n",
      "discriminator loss at step 1000: 0.688780665397644\n",
      "adversarial loss at step 1000: 0.7727056741714478\n",
      "discriminator loss at step 1100: 0.6950764060020447\n",
      "adversarial loss at step 1100: 0.7919472455978394\n",
      "discriminator loss at step 1200: 0.6968622207641602\n",
      "adversarial loss at step 1200: 0.7631566524505615\n",
      "discriminator loss at step 1300: 0.7494848370552063\n",
      "adversarial loss at step 1300: 0.7699292898178101\n",
      "discriminator loss at step 1400: 0.7073808908462524\n",
      "adversarial loss at step 1400: 0.7517231702804565\n",
      "discriminator loss at step 1500: 0.6910253167152405\n",
      "adversarial loss at step 1500: 0.7531974911689758\n",
      "discriminator loss at step 1600: 0.7003955841064453\n",
      "adversarial loss at step 1600: 0.7703525424003601\n",
      "discriminator loss at step 1700: 0.7113140225410461\n",
      "adversarial loss at step 1700: 0.742740273475647\n",
      "discriminator loss at step 1800: 0.6847745776176453\n",
      "adversarial loss at step 1800: 0.7298043370246887\n",
      "discriminator loss at step 1900: 0.7036039233207703\n",
      "adversarial loss at step 1900: 0.7934971451759338\n",
      "discriminator loss at step 2000: 0.7069724798202515\n",
      "adversarial loss at step 2000: 0.7673066258430481\n",
      "discriminator loss at step 2100: 0.6932204961776733\n",
      "adversarial loss at step 2100: 0.7449779510498047\n",
      "discriminator loss at step 2200: 0.6904036402702332\n",
      "adversarial loss at step 2200: 0.7648955583572388\n",
      "discriminator loss at step 2300: 0.7257712483406067\n",
      "adversarial loss at step 2300: 0.7579901218414307\n",
      "discriminator loss at step 2400: 0.6915043592453003\n",
      "adversarial loss at step 2400: 0.7365754842758179\n",
      "discriminator loss at step 2500: 0.6926962733268738\n",
      "adversarial loss at step 2500: 0.7457379102706909\n",
      "discriminator loss at step 2600: 0.6806385517120361\n",
      "adversarial loss at step 2600: 0.878238320350647\n",
      "discriminator loss at step 2700: 0.7027254104614258\n",
      "adversarial loss at step 2700: 0.7585648894309998\n",
      "discriminator loss at step 2800: 0.6851418614387512\n",
      "adversarial loss at step 2800: 0.7479609251022339\n",
      "discriminator loss at step 2900: 0.6838358044624329\n",
      "adversarial loss at step 2900: 0.6605851054191589\n",
      "discriminator loss at step 3000: 0.6960834264755249\n",
      "adversarial loss at step 3000: 0.7477056980133057\n",
      "discriminator loss at step 3100: 0.6902839541435242\n",
      "adversarial loss at step 3100: 0.757311999797821\n",
      "discriminator loss at step 3200: 0.6912710666656494\n",
      "adversarial loss at step 3200: 0.7930662035942078\n",
      "discriminator loss at step 3300: 0.693367600440979\n",
      "adversarial loss at step 3300: 0.7312367558479309\n",
      "discriminator loss at step 3400: 0.6867431402206421\n",
      "adversarial loss at step 3400: 0.7401872873306274\n",
      "discriminator loss at step 3500: 0.6968338489532471\n",
      "adversarial loss at step 3500: 0.7574908137321472\n",
      "discriminator loss at step 3600: 0.6944863796234131\n",
      "adversarial loss at step 3600: 0.78168123960495\n",
      "discriminator loss at step 3700: 0.7094407677650452\n",
      "adversarial loss at step 3700: 0.7652143239974976\n",
      "discriminator loss at step 3800: 0.6990320682525635\n",
      "adversarial loss at step 3800: 0.7342979311943054\n",
      "discriminator loss at step 3900: 0.7040310502052307\n",
      "adversarial loss at step 3900: 0.8175576329231262\n",
      "discriminator loss at step 4000: 0.6974140405654907\n",
      "adversarial loss at step 4000: 0.7265920639038086\n",
      "discriminator loss at step 4100: 0.6972717046737671\n",
      "adversarial loss at step 4100: 0.7401890158653259\n",
      "discriminator loss at step 4200: 0.7041049003601074\n",
      "adversarial loss at step 4200: 0.748734176158905\n",
      "discriminator loss at step 4300: 0.6899105906486511\n",
      "adversarial loss at step 4300: 0.8425426483154297\n",
      "discriminator loss at step 4400: 0.681620180606842\n",
      "adversarial loss at step 4400: 0.7727752923965454\n",
      "discriminator loss at step 4500: 0.6914418935775757\n",
      "adversarial loss at step 4500: 0.7583135366439819\n",
      "discriminator loss at step 4600: 0.6860283613204956\n",
      "adversarial loss at step 4600: 0.7597808837890625\n",
      "discriminator loss at step 4700: 0.6945170164108276\n",
      "adversarial loss at step 4700: 0.7507199645042419\n",
      "discriminator loss at step 4800: 0.7362736463546753\n",
      "adversarial loss at step 4800: 0.7484492063522339\n",
      "discriminator loss at step 4900: 0.6873037219047546\n",
      "adversarial loss at step 4900: 0.7623580098152161\n",
      "discriminator loss at step 5000: 0.7056626081466675\n",
      "adversarial loss at step 5000: 0.7371633648872375\n",
      "discriminator loss at step 5100: 0.6991008520126343\n",
      "adversarial loss at step 5100: 0.777897834777832\n",
      "discriminator loss at step 5200: 0.6943031549453735\n",
      "adversarial loss at step 5200: 0.72004634141922\n",
      "discriminator loss at step 5300: 0.7105693221092224\n",
      "adversarial loss at step 5300: 0.7728214263916016\n",
      "discriminator loss at step 5400: 0.6939539909362793\n",
      "adversarial loss at step 5400: 0.7705963850021362\n",
      "discriminator loss at step 5500: 0.6937767863273621\n",
      "adversarial loss at step 5500: 0.7492830753326416\n",
      "discriminator loss at step 5600: 0.6869031190872192\n",
      "adversarial loss at step 5600: 0.6638157963752747\n",
      "discriminator loss at step 5700: 0.6934474110603333\n",
      "adversarial loss at step 5700: 0.7482077479362488\n",
      "discriminator loss at step 5800: 0.6869913339614868\n",
      "adversarial loss at step 5800: 0.7461670637130737\n",
      "discriminator loss at step 5900: 0.685606837272644\n",
      "adversarial loss at step 5900: 0.770691990852356\n",
      "discriminator loss at step 6000: 0.7063823938369751\n",
      "adversarial loss at step 6000: 0.7606931924819946\n",
      "discriminator loss at step 6100: 0.6810258626937866\n",
      "adversarial loss at step 6100: 0.7914605736732483\n",
      "discriminator loss at step 6200: 0.6945387125015259\n",
      "adversarial loss at step 6200: 0.7304601669311523\n",
      "discriminator loss at step 6300: 0.6765638589859009\n",
      "adversarial loss at step 6300: 0.7395550012588501\n",
      "discriminator loss at step 6400: 0.6964942812919617\n",
      "adversarial loss at step 6400: 0.7783703804016113\n",
      "discriminator loss at step 6500: 0.6892035603523254\n",
      "adversarial loss at step 6500: 0.7372981309890747\n",
      "discriminator loss at step 6600: 0.7021504640579224\n",
      "adversarial loss at step 6600: 0.7285731434822083\n",
      "discriminator loss at step 6700: 0.7102850675582886\n",
      "adversarial loss at step 6700: 0.7802507877349854\n",
      "discriminator loss at step 6800: 0.6790955066680908\n",
      "adversarial loss at step 6800: 0.7188805341720581\n",
      "discriminator loss at step 6900: 0.6920241117477417\n",
      "adversarial loss at step 6900: 0.7738549113273621\n",
      "discriminator loss at step 7000: 0.6990256309509277\n",
      "adversarial loss at step 7000: 0.7846044301986694\n",
      "discriminator loss at step 7100: 0.6647993326187134\n",
      "adversarial loss at step 7100: 0.8623210191726685\n",
      "discriminator loss at step 7200: 0.6832636594772339\n",
      "adversarial loss at step 7200: 0.7799814939498901\n",
      "discriminator loss at step 7300: 0.6868227124214172\n",
      "adversarial loss at step 7300: 0.7464681267738342\n",
      "discriminator loss at step 7400: 0.773813784122467\n",
      "adversarial loss at step 7400: 1.012832522392273\n",
      "discriminator loss at step 7500: 0.6826761960983276\n",
      "adversarial loss at step 7500: 0.6899647116661072\n",
      "discriminator loss at step 7600: 0.6679515242576599\n",
      "adversarial loss at step 7600: 0.9221709966659546\n",
      "discriminator loss at step 7700: 0.6762240529060364\n",
      "adversarial loss at step 7700: 0.7433751821517944\n",
      "discriminator loss at step 7800: 0.7232515215873718\n",
      "adversarial loss at step 7800: 1.1369311809539795\n",
      "discriminator loss at step 7900: 0.769579291343689\n",
      "adversarial loss at step 7900: 0.7722910642623901\n",
      "discriminator loss at step 8000: 0.6767576932907104\n",
      "adversarial loss at step 8000: 0.7554755210876465\n"
     ]
    },
    {
     "name": "stdout",
     "output_type": "stream",
     "text": [
      "discriminator loss at step 8100: 0.779139518737793\n",
      "adversarial loss at step 8100: 0.6255518198013306\n",
      "discriminator loss at step 8200: 0.6782985925674438\n",
      "adversarial loss at step 8200: 0.9315614700317383\n",
      "discriminator loss at step 8300: 0.7266851663589478\n",
      "adversarial loss at step 8300: 0.7637516260147095\n",
      "discriminator loss at step 8400: 0.6846385598182678\n",
      "adversarial loss at step 8400: 0.7864373922348022\n",
      "discriminator loss at step 8500: 0.6799100637435913\n",
      "adversarial loss at step 8500: 0.8569284677505493\n",
      "discriminator loss at step 8600: 0.6595746874809265\n",
      "adversarial loss at step 8600: 0.8916555643081665\n",
      "discriminator loss at step 8700: 0.7013887166976929\n",
      "adversarial loss at step 8700: 0.8407611846923828\n",
      "discriminator loss at step 8800: 0.6644335985183716\n",
      "adversarial loss at step 8800: 0.8600862622261047\n",
      "discriminator loss at step 8900: 0.6678747534751892\n",
      "adversarial loss at step 8900: 0.7509400248527527\n",
      "discriminator loss at step 9000: 0.6795431971549988\n",
      "adversarial loss at step 9000: 0.8165480494499207\n",
      "discriminator loss at step 9100: 0.6813570857048035\n",
      "adversarial loss at step 9100: 0.8601352572441101\n",
      "discriminator loss at step 9200: 0.6841751337051392\n",
      "adversarial loss at step 9200: 0.944229245185852\n",
      "discriminator loss at step 9300: 0.6813699007034302\n",
      "adversarial loss at step 9300: 0.7787534594535828\n",
      "discriminator loss at step 9400: 0.6760749220848083\n",
      "adversarial loss at step 9400: 0.9154598116874695\n",
      "discriminator loss at step 9500: 0.7116886377334595\n",
      "adversarial loss at step 9500: 0.820183277130127\n",
      "discriminator loss at step 9600: 0.6638496518135071\n",
      "adversarial loss at step 9600: 0.692707896232605\n",
      "discriminator loss at step 9700: 0.6762645840644836\n",
      "adversarial loss at step 9700: 0.7398158311843872\n",
      "discriminator loss at step 9800: 0.7375739812850952\n",
      "adversarial loss at step 9800: 1.224901795387268\n",
      "discriminator loss at step 9900: 0.6898083686828613\n",
      "adversarial loss at step 9900: 0.7328506112098694\n"
     ]
    }
   ],
   "source": [
    "import os\n",
    "from keras.preprocessing import image\n",
    "\n",
    "# Load CIFAR10 data\n",
    "(x_train, y_train), (_, _) = keras.datasets.cifar10.load_data()\n",
    "\n",
    "# Select frog images (class 6)\n",
    "x_train = x_train[y_train.flatten() == 6]\n",
    "\n",
    "# Normalize data\n",
    "x_train = x_train.reshape(\n",
    "    (x_train.shape[0],) + (height, width, channels)).astype('float32') / 255.\n",
    "\n",
    "iterations = 10000\n",
    "batch_size = 20\n",
    "save_dir = '/home/mic/Documents/deep-learning-with-python-notebooks/data/gan_images/'\n",
    "\n",
    "# Start training loop\n",
    "start = 0\n",
    "for step in range(iterations):\n",
    "    # Sample random points in the latent space\n",
    "    random_latent_vectors = np.random.normal(size=(batch_size, latent_dim))\n",
    "\n",
    "    # Decode them to fake images\n",
    "    generated_images = generator.predict(random_latent_vectors)\n",
    "\n",
    "    # Combine them with real images\n",
    "    stop = start + batch_size\n",
    "    real_images = x_train[start: stop]\n",
    "    combined_images = np.concatenate([generated_images, real_images])\n",
    "\n",
    "    # Assemble labels discriminating real from fake images\n",
    "    labels = np.concatenate([np.ones((batch_size, 1)),\n",
    "                             np.zeros((batch_size, 1))])\n",
    "    # Add random noise to the labels - important trick!\n",
    "    labels += 0.05 * np.random.random(labels.shape)\n",
    "\n",
    "    # Train the discriminator\n",
    "    d_loss = discriminator.train_on_batch(combined_images, labels)\n",
    "\n",
    "    # sample random points in the latent space\n",
    "    random_latent_vectors = np.random.normal(size=(batch_size, latent_dim))\n",
    "\n",
    "    # Assemble labels that say \"all real images\"\n",
    "    misleading_targets = np.zeros((batch_size, 1))\n",
    "\n",
    "    # Train the generator (via the gan model,\n",
    "    # where the discriminator weights are frozen)\n",
    "    a_loss = gan.train_on_batch(random_latent_vectors, misleading_targets)\n",
    "    \n",
    "    start += batch_size\n",
    "    if start > len(x_train) - batch_size:\n",
    "      start = 0\n",
    "\n",
    "    # Occasionally save / plot\n",
    "    if step % 100 == 0:\n",
    "        # Save model weights\n",
    "        gan.save_weights('gan.h5')\n",
    "\n",
    "        # Print metrics\n",
    "        print('discriminator loss at step %s: %s' % (step, d_loss))\n",
    "        print('adversarial loss at step %s: %s' % (step, a_loss))\n",
    "\n",
    "        # Save one generated image\n",
    "        img = image.array_to_img(generated_images[0] * 255., scale=False)\n",
    "        img.save(os.path.join(save_dir, 'generated_frog' + str(step) + '.png'))\n",
    "\n",
    "        # Save one real image, for comparison\n",
    "        img = image.array_to_img(real_images[0] * 255., scale=False)\n",
    "        img.save(os.path.join(save_dir, 'real_frog' + str(step) + '.png'))"
   ]
  },
  {
   "cell_type": "markdown",
   "metadata": {
    "collapsed": true
   },
   "source": [
    "Let's display a few of our fake images:"
   ]
  },
  {
   "cell_type": "code",
   "execution_count": 7,
   "metadata": {},
   "outputs": [
    {
     "data": {
      "image/png": "[encoded data removed]",
      "text/plain": [
       "<Figure size 432x288 with 1 Axes>"
      ]
     },
     "metadata": {
      "needs_background": "light"
     },
     "output_type": "display_data"
    },
    {
     "data": {
      "image/png": "[encoded data removed]",
      "text/plain": [
       "<Figure size 432x288 with 1 Axes>"
      ]
     },
     "metadata": {
      "needs_background": "light"
     },
     "output_type": "display_data"
    },
    {
     "data": {
      "image/png": "[encoded data removed]",
      "text/plain": [
       "<Figure size 432x288 with 1 Axes>"
      ]
     },
     "metadata": {
      "needs_background": "light"
     },
     "output_type": "display_data"
    },
    {
     "data": {
      "image/png": "[encoded data removed]",
      "text/plain": [
       "<Figure size 432x288 with 1 Axes>"
      ]
     },
     "metadata": {
      "needs_background": "light"
     },
     "output_type": "display_data"
    },
    {
     "data": {
      "image/png": "[encoded data removed]",
      "text/plain": [
       "<Figure size 432x288 with 1 Axes>"
      ]
     },
     "metadata": {
      "needs_background": "light"
     },
     "output_type": "display_data"
    },
    {
     "data": {
      "image/png": "[encoded data removed]",
      "text/plain": [
       "<Figure size 432x288 with 1 Axes>"
      ]
     },
     "metadata": {
      "needs_background": "light"
     },
     "output_type": "display_data"
    },
    {
     "data": {
      "image/png": "[encoded data removed]",
      "text/plain": [
       "<Figure size 432x288 with 1 Axes>"
      ]
     },
     "metadata": {
      "needs_background": "light"
     },
     "output_type": "display_data"
    },
    {
     "data": {
      "image/png": "[encoded data removed]",
      "text/plain": [
       "<Figure size 432x288 with 1 Axes>"
      ]
     },
     "metadata": {
      "needs_background": "light"
     },
     "output_type": "display_data"
    },
    {
     "data": {
      "image/png": "[encoded data removed]",
      "text/plain": [
       "<Figure size 432x288 with 1 Axes>"
      ]
     },
     "metadata": {
      "needs_background": "light"
     },
     "output_type": "display_data"
    },
    {
     "data": {
      "image/png": "[encoded data removed]",
      "text/plain": [
       "<Figure size 432x288 with 1 Axes>"
      ]
     },
     "metadata": {
      "needs_background": "light"
     },
     "output_type": "display_data"
    }
   ],
   "source": [
    "import matplotlib.pyplot as plt\n",
    "\n",
    "# Sample random points in the latent space\n",
    "random_latent_vectors = np.random.normal(size=(10, latent_dim))\n",
    "\n",
    "# Decode them to fake images\n",
    "generated_images = generator.predict(random_latent_vectors)\n",
    "\n",
    "for i in range(generated_images.shape[0]):\n",
    "    img = image.array_to_img(generated_images[i] * 255., scale=False)\n",
    "    plt.figure()\n",
    "    plt.imshow(img)\n",
    "    \n",
    "plt.show()"
   ]
  },
  {
   "cell_type": "code",
   "execution_count": 8,
   "metadata": {},
   "outputs": [],
   "source": [
    "# Release the GPU memory\n",
    "from numba import cuda\n",
    "\n",
    "cuda.select_device(0)\n",
    "cuda.close()"
   ]
  },
  {
   "cell_type": "markdown",
   "metadata": {},
   "source": [
    "Froggy with some pixellated artifacts."
   ]
  }
 ],
 "metadata": {
  "kernelspec": {
   "display_name": "Python 3",
   "language": "python",
   "name": "python3"
  },
  "language_info": {
   "codemirror_mode": {
    "name": "ipython",
    "version": 3
   },
   "file_extension": ".py",
   "mimetype": "text/x-python",
   "name": "python",
   "nbconvert_exporter": "python",
   "pygments_lexer": "ipython3",
   "version": "3.7.7"
  }
 },
 "nbformat": 4,
 "nbformat_minor": 2
}
